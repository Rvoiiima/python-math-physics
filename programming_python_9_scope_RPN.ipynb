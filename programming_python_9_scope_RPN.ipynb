{
  "nbformat": 4,
  "nbformat_minor": 0,
  "metadata": {
    "colab": {
      "name": "programming-python-9-scope-RPN.ipynb",
      "provenance": [],
      "authorship_tag": "ABX9TyMBq7D9Lpgp+eDBYfDvgFdF",
      "include_colab_link": true
    },
    "kernelspec": {
      "name": "python3",
      "display_name": "Python 3"
    },
    "language_info": {
      "name": "python"
    }
  },
  "cells": [
    {
      "cell_type": "markdown",
      "metadata": {
        "id": "view-in-github",
        "colab_type": "text"
      },
      "source": [
        "<a href=\"https://colab.research.google.com/github/Rvoiiima/python-math-physics/blob/main/programming_python_9_scope_RPN.ipynb\" target=\"_parent\"><img src=\"https://colab.research.google.com/assets/colab-badge.svg\" alt=\"Open In Colab\"/></a>"
      ]
    },
    {
      "cell_type": "markdown",
      "metadata": {
        "id": "HkvSHzsHvyU4"
      },
      "source": [
        "# 関数のスコープ\n",
        "- [資料](https://ryo-iijima.com/blog/wp-content/uploads/2021/01/python-9-scope-reverse-polish-notation.pdf)\n",
        "## スコープとは\n",
        "変数を扱うことのできる範囲，変数が有効な部分のこと\n",
        "\n",
        "## スコープの原則\n",
        "1. 局所変数(local variable): 関数の中で定義した変数は，関数の外では使えない\n",
        "2. グローバル変数(global variable): どの関数にも属していない変数は，どこでも使える\n",
        "3. 局所変数優先の法則(local variable priority) : 同じ名前の局所変数と，グローバル変数がある場合は，局所変数が優先される"
      ]
    },
    {
      "cell_type": "code",
      "metadata": {
        "colab": {
          "base_uri": "https://localhost:8080/"
        },
        "id": "7p1BX85Ru5V5",
        "outputId": "c9d43c09-e7a1-42d6-fc33-e35426a94e4e"
      },
      "source": [
        "# 関数の中に書いた変数は、定義より手前にあるのでエラーになりそうだ\n",
        "def f(x):\n",
        "  print(a, b)\n",
        "  return 2*x\n",
        "\n",
        "a = 2\n",
        "b = 1+2*5\n",
        "c = f(5)\n",
        "\n",
        "# Q: エラーにならないのはなぜか？"
      ],
      "execution_count": 1,
      "outputs": [
        {
          "output_type": "stream",
          "text": [
            "2 11\n"
          ],
          "name": "stdout"
        }
      ]
    },
    {
      "cell_type": "code",
      "metadata": {
        "colab": {
          "base_uri": "https://localhost:8080/"
        },
        "id": "nb1v_h9jwB3K",
        "outputId": "97d3878b-2559-45a8-91cb-2bfd9141fdc0"
      },
      "source": [
        "def f(x):\n",
        "  y = 1\n",
        "  x = x + y\n",
        "  print(\"x=\", x, \"関数内\")\n",
        "  print(\"y=\", y)\n",
        "  return x\n",
        "\n",
        "x = 3\n",
        "y = 2\n",
        "z = f(x)\n",
        "print(\"z=\", z)\n",
        "print(\"x=\", x, \"関数外\")\n",
        "print(\"y=\", y)"
      ],
      "execution_count": 2,
      "outputs": [
        {
          "output_type": "stream",
          "text": [
            "x= 4 関数内\n",
            "y= 1\n",
            "z= 4\n",
            "x= 3 関数外\n",
            "y= 2\n"
          ],
          "name": "stdout"
        }
      ]
    },
    {
      "cell_type": "markdown",
      "metadata": {
        "id": "9ujX1ax5wWc2"
      },
      "source": [
        "## スタックフレームの図解【応用】\n",
        "- [資料](https://ryo-iijima.com/blog/wp-content/uploads/2021/01/python-9-scope-reverse-polish-notation.pdf)\n",
        "の，p.19~を参照してください．主にC, C++言語などでは説明される考え方です．"
      ]
    }
  ]
}