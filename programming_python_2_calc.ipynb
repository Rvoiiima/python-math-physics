{
  "nbformat": 4,
  "nbformat_minor": 0,
  "metadata": {
    "colab": {
      "name": "programming-python-2-calc.ipynb",
      "provenance": [],
      "include_colab_link": true
    },
    "kernelspec": {
      "name": "python3",
      "display_name": "Python 3"
    }
  },
  "cells": [
    {
      "cell_type": "markdown",
      "metadata": {
        "id": "view-in-github",
        "colab_type": "text"
      },
      "source": [
        "<a href=\"https://colab.research.google.com/github/Rvoiiima/python-math-physics/blob/main/programming_python_2_calc.ipynb\" target=\"_parent\"><img src=\"https://colab.research.google.com/assets/colab-badge.svg\" alt=\"Open In Colab\"/></a>"
      ]
    },
    {
      "cell_type": "markdown",
      "metadata": {
        "id": "RPqEBE5eEIu2"
      },
      "source": [
        "# Python 入門 第二回 式と代入\n",
        "- [資料](https://ryo-iijima.com/blog/wp-content/uploads/2021/01/python-2-calc.pdf)\n"
      ]
    },
    {
      "cell_type": "markdown",
      "metadata": {
        "id": "NJsFCU0QLTbT"
      },
      "source": [
        "# 式と代入\n",
        "- 式\n",
        "- 変数を含む式\n",
        "- 数学とプログラミングの違い\n"
      ]
    },
    {
      "cell_type": "code",
      "metadata": {
        "id": "_fHWHO0eMpGG",
        "colab": {
          "base_uri": "https://localhost:8080/",
          "height": 125
        },
        "outputId": "e40f2e1e-9fb2-468a-972e-016a79c263d2"
      },
      "source": [
        "print(5+3) #足し算\n",
        "print(5-3) #引き算\n",
        "print(5*3) #掛け算 \n",
        "print(5/3) #割り算\n",
        "print(5%3) #割り算のあまり（剰余）\n",
        "print(5**3) #べき乗 ここでは5の3乗"
      ],
      "execution_count": null,
      "outputs": [
        {
          "output_type": "stream",
          "text": [
            "8\n",
            "2\n",
            "15\n",
            "1.6666666666666667\n",
            "2\n",
            "125\n"
          ],
          "name": "stdout"
        }
      ]
    },
    {
      "cell_type": "code",
      "metadata": {
        "id": "5HfYha9-NBva",
        "colab": {
          "base_uri": "https://localhost:8080/",
          "height": 125
        },
        "outputId": "4ebea0b9-18d1-4439-abae-87741033937e"
      },
      "source": [
        "x = 5 #これから下のxはすべて5に置き換わるということ: 代入\n",
        "print(x+3)\n",
        "print(x-3)\n",
        "print(x*3)\n",
        "print(x/3)\n",
        "print(x%3)\n",
        "print(x**3) "
      ],
      "execution_count": null,
      "outputs": [
        {
          "output_type": "stream",
          "text": [
            "8\n",
            "2\n",
            "15\n",
            "1.6666666666666667\n",
            "2\n",
            "125\n"
          ],
          "name": "stdout"
        }
      ]
    },
    {
      "cell_type": "code",
      "metadata": {
        "id": "khOoZe74N2pc",
        "colab": {
          "base_uri": "https://localhost:8080/",
          "height": 89
        },
        "outputId": "3134ec2f-b03b-4bb4-91d9-b9c939a5a5e9"
      },
      "source": [
        "# 変数の計算と代入\n",
        "\n",
        "x = 5\n",
        "y = x * 3\n",
        "print(\"1度目の代入\")\n",
        "print(y)\n",
        "\n",
        "y = x / 3\n",
        "print(\"2度目の代入\")\n",
        "print(y)"
      ],
      "execution_count": null,
      "outputs": [
        {
          "output_type": "stream",
          "text": [
            "1度目の代入\n",
            "15\n",
            "2度目の代入\n",
            "1.6666666666666667\n"
          ],
          "name": "stdout"
        }
      ]
    },
    {
      "cell_type": "code",
      "metadata": {
        "id": "QGGnBY7zVl-3"
      },
      "source": [
        ""
      ],
      "execution_count": null,
      "outputs": []
    },
    {
      "cell_type": "markdown",
      "metadata": {
        "id": "jwxZ2hnTK1pR"
      },
      "source": [
        "# 数学とプログラミング　変数の扱い方の違い\n",
        "- 数学\n",
        "  - 何が入るかわからない変数をxとおいて、式をつかう、展開する\n",
        "\n",
        "- プログラミング\n",
        "  - 変数にあらかじめ代入していないと、数式の中で使えない & 表示ができない\n"
      ]
    },
    {
      "cell_type": "code",
      "metadata": {
        "id": "IIxCRcDlVnf2",
        "colab": {
          "base_uri": "https://localhost:8080/",
          "height": 89
        },
        "outputId": "672dc46b-ca1f-4560-9f2c-2040c935588f"
      },
      "source": [
        "# リストの代入\n",
        "L = [5, 2, 1, 4, 6, 1, 9, 2]\n",
        "name_list = [\"aoki\", \"iijima\", \"kato\", \"tanaka\", \"watanabe\"]\n",
        "\n",
        "# リストの表示\n",
        "print(L)\n",
        "print(L[2]) #2番目のものを表示 (1番前は0番目として数える)\n",
        "print(L[2 : 5]) #2番目から4番目までを表示\n",
        "print(L[-1]) # -1は一番うしろ　-2は後ろから2番目"
      ],
      "execution_count": null,
      "outputs": [
        {
          "output_type": "stream",
          "text": [
            "[5, 2, 1, 4, 6, 1, 9, 2]\n",
            "1\n",
            "[1, 4, 6]\n",
            "2\n"
          ],
          "name": "stdout"
        }
      ]
    },
    {
      "cell_type": "markdown",
      "metadata": {
        "id": "4qcKFe-UXnAz"
      },
      "source": [
        "# リスト\n",
        "## リストの代入\n",
        "[　]で囲って、一つ一つの要素を, で区切って表示。\n",
        "\n",
        "## リストの表示\n",
        "リスト名[数字]で、取り出したい位置を指定する。\n",
        "- L[2]: 2番目の要素\n",
        "- L[2:5] 2番目から4番目の要素\n",
        "ーL[-1] 後ろから1番前の要素\n",
        "\n",
        "## range\n",
        "等差数列のリストを作るための機能（関数については後述）\n",
        "range(開始の数, 終わりの数, ステップ数)\n",
        "\n",
        "L = list(range(5))　\n",
        "\n",
        "print(L)\n",
        "\n"
      ]
    },
    {
      "cell_type": "code",
      "metadata": {
        "id": "tICZyRAxZuRw",
        "colab": {
          "base_uri": "https://localhost:8080/",
          "height": 71
        },
        "outputId": "c024943d-b879-4e41-d8cc-e6a2ad4c9fce"
      },
      "source": [
        "L = list(range(5))\n",
        "print(L)\n",
        "L = list(range(2, 6))\n",
        "print(L)\n",
        "L = list(range(2, 20, 2)) #2から20の手前まで、2を足していくlist\n",
        "print(L)"
      ],
      "execution_count": null,
      "outputs": [
        {
          "output_type": "stream",
          "text": [
            "[0, 1, 2, 3, 4]\n",
            "[2, 3, 4, 5]\n",
            "[2, 4, 6, 8, 10, 12, 14, 16, 18]\n"
          ],
          "name": "stdout"
        }
      ]
    },
    {
      "cell_type": "markdown",
      "metadata": {
        "id": "zcKLpZfhFlxU"
      },
      "source": [
        "## math モジュール"
      ]
    },
    {
      "cell_type": "code",
      "metadata": {
        "id": "YYIP6T70YFow",
        "colab": {
          "base_uri": "https://localhost:8080/",
          "height": 35
        },
        "outputId": "91c25948-c0bb-4a2f-97c5-913c5b964761"
      },
      "source": [
        "import math\n",
        "\n",
        "#平方根\n",
        "x = math.sqrt(4) #mathというモジュールに入ったsqrtという機能を使いますということ\n",
        "print(x)"
      ],
      "execution_count": null,
      "outputs": [
        {
          "output_type": "stream",
          "text": [
            "2.0\n"
          ],
          "name": "stdout"
        }
      ]
    },
    {
      "cell_type": "markdown",
      "metadata": {
        "id": "4AV5FPqoFi3d"
      },
      "source": [
        "## numpy モジュール"
      ]
    },
    {
      "cell_type": "code",
      "metadata": {
        "id": "m3LZeWBacANH",
        "colab": {
          "base_uri": "https://localhost:8080/"
        },
        "outputId": "b1668708-3bb7-4613-c0ae-0a43cdcc26a5"
      },
      "source": [
        "\n",
        "import numpy as np\n",
        "\n",
        "x = np.arange(1, 2, 0.1)\n",
        "print(x)\n",
        "y = np.array([2, 3, 5, 1])\n",
        "print(y)"
      ],
      "execution_count": null,
      "outputs": [
        {
          "output_type": "stream",
          "text": [
            "[1.  1.1 1.2 1.3 1.4 1.5 1.6 1.7 1.8 1.9]\n",
            "[2 3 5 1]\n"
          ],
          "name": "stdout"
        }
      ]
    },
    {
      "cell_type": "markdown",
      "metadata": {
        "id": "DKqk2TcDFgwp"
      },
      "source": [
        "# リストのブロードキャスト計算"
      ]
    },
    {
      "cell_type": "code",
      "metadata": {
        "id": "hW57Qn8Ma4-U",
        "colab": {
          "base_uri": "https://localhost:8080/",
          "height": 53
        },
        "outputId": "3d521c47-b01a-41ce-c0a7-57cb41034dee"
      },
      "source": [
        "\n",
        "x = np.array([1, 4, 9, 16])\n",
        "\n",
        "y = 2 * x\n",
        "\n",
        "print(x)\n",
        "print(y)"
      ],
      "execution_count": null,
      "outputs": [
        {
          "output_type": "stream",
          "text": [
            "[ 1  4  9 16]\n",
            "[ 2  8 18 32]\n"
          ],
          "name": "stdout"
        }
      ]
    },
    {
      "cell_type": "markdown",
      "metadata": {
        "id": "_LGcFrk0FZH0"
      },
      "source": [
        "## 二次関数の描画"
      ]
    },
    {
      "cell_type": "code",
      "metadata": {
        "id": "lg9tJE88WwOv",
        "colab": {
          "base_uri": "https://localhost:8080/",
          "height": 295
        },
        "outputId": "0e148c59-cb22-447e-d8b1-751760b137cd"
      },
      "source": [
        "# 数学のグラフ表示\n",
        "\n",
        "import matplotlib.pyplot as plt\n",
        "import numpy as np\n",
        "\n",
        "x = np.arange(-10, 10, 0.1) # rangeと使い方は同じ, 少数の指定ができる\n",
        "y = x**2 #リストのブロードキャスティング\n",
        "\n",
        "plt.plot(x, y)\n",
        "plt.title(\"y=x^2\")\n",
        "plt.xlabel(\"x\")\n",
        "plt.ylabel(\"y\")\n",
        "plt.show()"
      ],
      "execution_count": null,
      "outputs": [
        {
          "output_type": "display_data",
          "data": {
            "image/png": "[encoded data removed]",
            "text/plain": [
              "<Figure size 432x288 with 1 Axes>"
            ]
          },
          "metadata": {
            "tags": []
          }
        }
      ]
    },
    {
      "cell_type": "markdown",
      "metadata": {
        "id": "f--FvtfYFTt0"
      },
      "source": [
        "## 三角関数(sin, cos)の描画"
      ]
    },
    {
      "cell_type": "code",
      "metadata": {
        "id": "79CYI9m5YDnS",
        "colab": {
          "base_uri": "https://localhost:8080/",
          "height": 282
        },
        "outputId": "e76733a1-c29e-4924-baca-9a1fc4efead9"
      },
      "source": [
        "import math\n",
        "import numpy as np\n",
        "import matplotlib.pyplot as plt\n",
        "\n",
        "x = np.linspace(-np.pi, np.pi, 200)\n",
        "print(x.size)\n",
        "y = np.sin(x)\n",
        "\n",
        "plt.plot(x, y)\n",
        "plt.show()\n"
      ],
      "execution_count": null,
      "outputs": [
        {
          "output_type": "stream",
          "text": [
            "200\n"
          ],
          "name": "stdout"
        },
        {
          "output_type": "display_data",
          "data": {
            "image/png": "[encoded data removed]",
            "text/plain": [
              "<Figure size 432x288 with 1 Axes>"
            ]
          },
          "metadata": {
            "tags": [],
            "needs_background": "light"
          }
        }
      ]
    }
  ]
}