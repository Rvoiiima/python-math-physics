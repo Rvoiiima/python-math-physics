{
  "nbformat": 4,
  "nbformat_minor": 0,
  "metadata": {
    "colab": {
      "name": "programming-python-5-list.ipynb",
      "provenance": [],
      "authorship_tag": "ABX9TyMDrsnXSZNz35kCkM7mfD1d",
      "include_colab_link": true
    },
    "kernelspec": {
      "name": "python3",
      "display_name": "Python 3"
    },
    "language_info": {
      "name": "python"
    }
  },
  "cells": [
    {
      "cell_type": "markdown",
      "metadata": {
        "id": "view-in-github",
        "colab_type": "text"
      },
      "source": [
        "<a href=\"https://colab.research.google.com/github/Rvoiiima/python-math-physics/blob/main/programming_python_5_list.ipynb\" target=\"_parent\"><img src=\"https://colab.research.google.com/assets/colab-badge.svg\" alt=\"Open In Colab\"/></a>"
      ]
    },
    {
      "cell_type": "markdown",
      "metadata": {
        "id": "S6C0dStoN-4_"
      },
      "source": [
        "# Python 入門 第5回 リストの活用\n",
        "- [資料](https://ryo-iijima.com/blog/wp-content/uploads/2021/01/python-5-list.pdf)\n",
        "\n",
        "## リスト\n",
        "- 数字や文字、要素の列を扱う\n",
        "  - 要素の追加・削除\n",
        "  - リストとfor文・if文の組み合わせ\n",
        "  - リスト内包表記\n",
        "  - split()機能の利用\n",
        "  - input()で受け取った文字列のリスト化\n",
        "\n",
        "## リストの活用例\n",
        "- 統計解析\n",
        "  - 1日ごとの平均外出者数: [120000, 130000, 125000, 300000, … … ]\n",
        "  - 株価・GDPなど\n",
        "- 連なりを表す必要があるもの（時系列データという）\n",
        "  - 楽譜・MIDIデータ・コード進行等: [“F”, “G”, “Em”, “Am”, … … ]\n",
        "  - 電車の駅名: [“神保原\"，“本庄”，”岡部”, “深谷”, … …]\n"
      ]
    },
    {
      "cell_type": "markdown",
      "metadata": {
        "id": "zlj1BdLFOu3z"
      },
      "source": [
        "## リスト要素の追加・削除\n",
        "### 追加:\n",
        "- append(値): リストの末尾に追加\n",
        "- insert(追加位置, 値): 指定した追加位置に，値を追加する\n",
        "\n",
        "## 削除: \n",
        "- pop(): 末尾の値を削除する．\n",
        "- pop(位置): 指定した位置の値を削除する．"
      ]
    },
    {
      "cell_type": "code",
      "metadata": {
        "colab": {
          "base_uri": "https://localhost:8080/"
        },
        "id": "_N1mj4CdN6Di",
        "outputId": "3087bf05-98a0-4de6-9d4c-c4bc63d7becb"
      },
      "source": [
        "data = [] # 空のリスト\n",
        "\n",
        "data.append(10)\n",
        "print(data)\n",
        "\n",
        "data.append(20)\n",
        "data.append(40)\n",
        "print(data)\n",
        "\n",
        "data.insert(2, 30)\n",
        "print(data)"
      ],
      "execution_count": null,
      "outputs": [
        {
          "output_type": "stream",
          "text": [
            "[10]\n",
            "[10, 20, 40]\n",
            "[10, 20, 30, 40]\n"
          ],
          "name": "stdout"
        }
      ]
    },
    {
      "cell_type": "code",
      "metadata": {
        "colab": {
          "base_uri": "https://localhost:8080/"
        },
        "id": "cESXE6EBPEqz",
        "outputId": "f3e661a6-e9a0-4a59-ca75-bdb0f4851d7c"
      },
      "source": [
        "data = [10, 20, 30, 40]\n",
        "print(data)\n",
        "\n",
        "#末尾の要素を削除する pop()\n",
        "data.pop()\n",
        "print(data)\n",
        "\n",
        "#1番目の要素を削除する pop(1)\n",
        "data.pop(1)\n",
        "print(data)"
      ],
      "execution_count": null,
      "outputs": [
        {
          "output_type": "stream",
          "text": [
            "[10, 20, 30, 40]\n",
            "[10, 20, 30]\n",
            "[10, 30]\n"
          ],
          "name": "stdout"
        }
      ]
    },
    {
      "cell_type": "markdown",
      "metadata": {
        "id": "YmbIp2oMPS35"
      },
      "source": [
        "## リストの利用例"
      ]
    },
    {
      "cell_type": "code",
      "metadata": {
        "id": "jz3nnhD4PR61"
      },
      "source": [
        "# サイコロを振った結果\n",
        "import random \n",
        "import collections\n",
        "\n",
        "results = []\n",
        "\n",
        "for i in range(1000):\n",
        "  x = random.randint(1, 6)\n",
        "  results.append(x)\n",
        "\n",
        "print(collections.Counter(results))\n",
        "\n"
      ],
      "execution_count": null,
      "outputs": []
    },
    {
      "cell_type": "markdown",
      "metadata": {
        "id": "mcDJQny-Ph32"
      },
      "source": [
        "## リスト内包表記 \n",
        "` [式  for  変数  in リスト] `\n",
        "\n",
        "リストから要素を一つずつ取り出して変数に代入し，\n",
        "その変数を含む式で計算された値を要素として，新しくリストを作る\n",
        "\n",
        "### リスト内包表記の利用例"
      ]
    },
    {
      "cell_type": "code",
      "metadata": {
        "id": "Vr4k58YDPKFL"
      },
      "source": [
        "# リスト内の，0-1 の確率をすべて100%表記に直したい．\n",
        "\n",
        "L = [0.324, 0.452, 0.335, 0.562, 0.583, 0.213]\n",
        "\n",
        "new_L = [per*100 for per in L]\n",
        "\n",
        "print(\"new_L =\", new_L)"
      ],
      "execution_count": null,
      "outputs": []
    },
    {
      "cell_type": "markdown",
      "metadata": {
        "id": "3Sfyl5f8P_FN"
      },
      "source": [
        "## split() を利用したリストの作成\n",
        "- split(\"区切り文字\"): 指定した区切り文字で分割したリストを作る"
      ]
    },
    {
      "cell_type": "code",
      "metadata": {
        "colab": {
          "base_uri": "https://localhost:8080/"
        },
        "id": "9bcRMo2jP-0g",
        "outputId": "22513b99-9fe7-4406-d007-ee0d8a7200bc"
      },
      "source": [
        "# ，(カンマ)区切りの文字列を分ける\n",
        "\n",
        "month = \"Jan,Feb,Mar,Apr,May,Jun,Jul,Aug,Sep,Oct,Nov,Dec\"\n",
        "\n",
        "print(month.split(\",\"))"
      ],
      "execution_count": null,
      "outputs": [
        {
          "output_type": "stream",
          "text": [
            "['Jan', 'Feb', 'Mar', 'Apr', 'May', 'Jun', 'Jul', 'Aug', 'Sep', 'Oct', 'Nov', 'Dec']\n"
          ],
          "name": "stdout"
        }
      ]
    },
    {
      "cell_type": "code",
      "metadata": {
        "colab": {
          "base_uri": "https://localhost:8080/"
        },
        "id": "kpttqTsgQQ7u",
        "outputId": "41482ac5-7519-4e51-8d73-709f239173c1"
      },
      "source": [
        "# 半角空白で分ける例(デフォルト)\n",
        "\n",
        "month = \"Jan Feb Mar Apr May Jun Jul Aug Sep Oct Nov Dec\"\n",
        "\n",
        "print(month.split())"
      ],
      "execution_count": null,
      "outputs": [
        {
          "output_type": "stream",
          "text": [
            "['Jan', 'Feb', 'Mar', 'Apr', 'May', 'Jun', 'Jul', 'Aug', 'Sep', 'Oct', 'Nov', 'Dec']\n"
          ],
          "name": "stdout"
        }
      ]
    },
    {
      "cell_type": "code",
      "metadata": {
        "colab": {
          "base_uri": "https://localhost:8080/"
        },
        "id": "CC5YwWPWQhzf",
        "outputId": "85eb7d16-dd96-4d8d-fd2d-b8ceab5bd5cb"
      },
      "source": [
        "# 競技プログラミングで見られる入力例\n",
        "S = input(\"合計したい数字をすべて半角数字で入力してください: \")\n",
        "\n",
        "L = S.split()\n",
        "print(\"文字を要素としたリストL = \", L)\n",
        "\n",
        "# 文字を数字に変換する機能 int() をリストLの要素1つ1つに適用する．\n",
        "new_L = [int(n) for n in L]\n",
        "print(\"数字を要素としたリストnew_L = \", new_L)\n",
        "\n",
        "ans = 0\n",
        "for i in new_L:\n",
        "  ans += i\n",
        "\n",
        "print(ans)"
      ],
      "execution_count": null,
      "outputs": [
        {
          "output_type": "stream",
          "text": [
            "合計したい数字をすべて半角数字で入力してください: 1 2 3\n",
            "文字を要素としたリストL =  ['1', '2', '3']\n",
            "数字を要素としたリストnew_L =  [1, 2, 3]\n",
            "6\n"
          ],
          "name": "stdout"
        }
      ]
    }
  ]
}