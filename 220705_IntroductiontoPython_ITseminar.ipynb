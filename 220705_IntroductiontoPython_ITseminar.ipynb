{
  "nbformat": 4,
  "nbformat_minor": 0,
  "metadata": {
    "colab": {
      "name": "220705-IntroductiontoPython-ITseminar.ipynb",
      "provenance": [],
      "collapsed_sections": [
        "8MN4skswADWV",
        "Pq3P3RcAuwmt",
        "BGp_3DmRpgNy",
        "LxZa7r3z0xsx",
        "V_T7V_yOwIxu",
        "_WKVFcBpzj_i",
        "XhvfBcbqyHfD"
      ],
      "authorship_tag": "ABX9TyOccywb6lmCNoyQWCKSK/Jz",
      "include_colab_link": true
    },
    "kernelspec": {
      "name": "python3",
      "display_name": "Python 3"
    },
    "language_info": {
      "name": "python"
    }
  },
  "cells": [
    {
      "cell_type": "markdown",
      "metadata": {
        "id": "view-in-github",
        "colab_type": "text"
      },
      "source": [
        "<a href=\"https://colab.research.google.com/github/Rvoiiima/python-math-physics/blob/main/220705_IntroductiontoPython_ITseminar.ipynb\" target=\"_parent\"><img src=\"https://colab.research.google.com/assets/colab-badge.svg\" alt=\"Open In Colab\"/></a>"
      ]
    },
    {
      "cell_type": "markdown",
      "source": [
        "# Python入門 \n",
        "- 22/07/05 18:15-\n",
        "- 担当: 飯島 涼\n",
        "- "
      ],
      "metadata": {
        "id": "XWbqHN_zp2uT"
      }
    },
    {
      "cell_type": "markdown",
      "source": [
        "## 出力\n",
        "```\n",
        "print(\"出力したい文字列\")\n",
        "```"
      ],
      "metadata": {
        "id": "Sf9ZSYRat1MT"
      }
    },
    {
      "cell_type": "code",
      "execution_count": null,
      "metadata": {
        "colab": {
          "base_uri": "https://localhost:8080/"
        },
        "id": "o2vvPQ3zpkZz",
        "outputId": "f1097741-66ce-447f-9564-402eb9e5315b"
      },
      "outputs": [
        {
          "output_type": "stream",
          "name": "stdout",
          "text": [
            "Hello, world!\n"
          ]
        }
      ],
      "source": [
        "print(\"Hello, world!\")"
      ]
    },
    {
      "cell_type": "markdown",
      "source": [
        "## 計算\n",
        "\n",
        "| 演算子 | 意味 | 例 |\n",
        "| -- | -- | -- |\n",
        "|+|加算|5 + 3|\n",
        "|-|減算|5 - 3|\n",
        "|*|乗算|5 * 3|\n",
        "|/|割り算|5 / 3|\n",
        "|%|剰余|5 % 3|\n"
      ],
      "metadata": {
        "id": "Pqc948ieu6l_"
      }
    },
    {
      "cell_type": "code",
      "source": [
        "print(\"5+3=\", 5+3)\n",
        "print(\"5-3=\", 5-3)\n",
        "print(\"5*3=\", 5*3)\n",
        "print(\"5/3=\", 5/3)\n",
        "print(\"5%3=\", 5%3)"
      ],
      "metadata": {
        "colab": {
          "base_uri": "https://localhost:8080/"
        },
        "id": "BeMrkxyYt-Q2",
        "outputId": "3dbe46f7-47f8-455a-9369-b80529b614ae"
      },
      "execution_count": null,
      "outputs": [
        {
          "output_type": "stream",
          "name": "stdout",
          "text": [
            "5+3= 8\n",
            "5-3= 2\n",
            "5*3= 15\n",
            "5/3= 1.6666666666666667\n",
            "5%3= 2\n"
          ]
        }
      ]
    },
    {
      "cell_type": "markdown",
      "source": [
        "## データ型と、データ型の変換\n",
        "\n",
        "|データ型|意味|例|\n",
        "|:-|:-|:-|\n",
        "|int|整数|0, -3, 5, -10, 2022, 123456789|\n",
        "|float|小数|0.1, 1.6666667, -0.5, -1.0|\n",
        "|str|文字列|\"Hello, world\", 'A', \"AM9:00\"|\n",
        "|bool|論理演算の結果|True, False|\n",
        "\n",
        "### データ型の確認方法: type()\n"
      ],
      "metadata": {
        "id": "hwnKOEWzycrJ"
      }
    },
    {
      "cell_type": "code",
      "source": [
        "print(type(1))\n",
        "print(type(0.5))\n",
        "print(type(5/3))\n",
        "print(type(\"AM9:00\"))\n",
        "print(type(\"1.666\")) # ダブルクォーテーションで囲ったデータは数字であっても str と判断される"
      ],
      "metadata": {
        "colab": {
          "base_uri": "https://localhost:8080/"
        },
        "id": "srHfHfI4zlnV",
        "outputId": "120a1926-83f0-4a9a-c749-4eeb0340d815"
      },
      "execution_count": null,
      "outputs": [
        {
          "output_type": "stream",
          "name": "stdout",
          "text": [
            "<class 'int'>\n",
            "<class 'float'>\n",
            "<class 'float'>\n",
            "<class 'str'>\n",
            "<class 'str'>\n"
          ]
        }
      ]
    },
    {
      "cell_type": "markdown",
      "source": [
        "### データ型の変換方法 \n",
        "データ型の名前(変換したいデータ)"
      ],
      "metadata": {
        "id": "zR4qZJQj0Mqw"
      }
    },
    {
      "cell_type": "code",
      "source": [
        "# 文字列型\n",
        "type(\"1.666\")"
      ],
      "metadata": {
        "colab": {
          "base_uri": "https://localhost:8080/"
        },
        "id": "NZb6O-R30CYv",
        "outputId": "23243479-6fce-42c0-c022-190f4fb90a76"
      },
      "execution_count": null,
      "outputs": [
        {
          "output_type": "execute_result",
          "data": {
            "text/plain": [
              "str"
            ]
          },
          "metadata": {},
          "execution_count": 8
        }
      ]
    },
    {
      "cell_type": "code",
      "source": [
        "#　小数\n",
        "type(float(\"1.666\"))"
      ],
      "metadata": {
        "colab": {
          "base_uri": "https://localhost:8080/"
        },
        "id": "wmLQeAD80WE1",
        "outputId": "e2272f86-afd2-47ea-b05e-c4a96390ac10"
      },
      "execution_count": null,
      "outputs": [
        {
          "output_type": "execute_result",
          "data": {
            "text/plain": [
              "float"
            ]
          },
          "metadata": {},
          "execution_count": 9
        }
      ]
    },
    {
      "cell_type": "code",
      "source": [
        "# 商の値だけ取り出したい\n",
        "print(5/3)\n",
        "print(int(5/3))"
      ],
      "metadata": {
        "colab": {
          "base_uri": "https://localhost:8080/"
        },
        "id": "8a4K-6c90amb",
        "outputId": "ccb04427-d652-434f-fb7e-e487bcc98629"
      },
      "execution_count": null,
      "outputs": [
        {
          "output_type": "stream",
          "name": "stdout",
          "text": [
            "1.6666666666666667\n",
            "1\n"
          ]
        }
      ]
    },
    {
      "cell_type": "code",
      "source": [
        ""
      ],
      "metadata": {
        "id": "iWwcqEJ6yvFc"
      },
      "execution_count": null,
      "outputs": []
    },
    {
      "cell_type": "markdown",
      "source": [
        "### 応用: Complex 型\n",
        "(実数部) ± （虚数部）j の形式で書く\n",
        "\n"
      ],
      "metadata": {
        "id": "3qhejHWz1zGI"
      }
    },
    {
      "cell_type": "code",
      "source": [
        "2 - 1j # 2 - j は不可 (jが変数と見分けがつかないため)"
      ],
      "metadata": {
        "colab": {
          "base_uri": "https://localhost:8080/"
        },
        "id": "P1oHvX5o2A4i",
        "outputId": "37eac44b-2238-48e5-d885-ed3cc35260f3"
      },
      "execution_count": null,
      "outputs": [
        {
          "output_type": "execute_result",
          "data": {
            "text/plain": [
              "(2-1j)"
            ]
          },
          "metadata": {},
          "execution_count": 1
        }
      ]
    },
    {
      "cell_type": "code",
      "source": [
        "# 計算も可能\n",
        "(1 - 1j) * (3 + 5j)"
      ],
      "metadata": {
        "colab": {
          "base_uri": "https://localhost:8080/"
        },
        "id": "mSMLxAXP2KU_",
        "outputId": "1a351003-5c9c-4cb6-db64-f3609160d976"
      },
      "execution_count": null,
      "outputs": [
        {
          "output_type": "execute_result",
          "data": {
            "text/plain": [
              "(8+2j)"
            ]
          },
          "metadata": {},
          "execution_count": 2
        }
      ]
    },
    {
      "cell_type": "markdown",
      "source": [
        "## Pythonの「代入」\n",
        "- 「箱に入れる」よりも、「ラベルが値を参照している」が近いイメージ"
      ],
      "metadata": {
        "id": "_MmCKu1ZywHY"
      }
    },
    {
      "cell_type": "code",
      "source": [
        "A = 3\n",
        "B = A\n",
        "print(\"A:\", A)\n",
        "print(\"B:\", B)\n",
        "\n",
        "A = 5\n",
        "print(\"A=5 代入操作後\")\n",
        "print(\"A:\", A)\n",
        "print(\"B:\", B) # Bの値への参照はそのまま保持される\n"
      ],
      "metadata": {
        "colab": {
          "base_uri": "https://localhost:8080/"
        },
        "id": "DmsmstkTuYKx",
        "outputId": "e886d7f3-5a51-4070-a637-3556678f0658"
      },
      "execution_count": null,
      "outputs": [
        {
          "output_type": "stream",
          "name": "stdout",
          "text": [
            "A: 3\n",
            "B: 3\n",
            "A=5 代入操作後\n",
            "A: 5\n",
            "B: 3\n"
          ]
        }
      ]
    },
    {
      "cell_type": "markdown",
      "source": [
        "## 関数の利用\n",
        "\n",
        "## 関数とは\n",
        "- 入力した数字や文字に対して，処理をした結果を出力するもの\n",
        "- 処理ごとに\"関数名\"が割り当てられる\n",
        "\n",
        "\n",
        "## 関数の種類\n",
        "- 組み込み関数\n",
        "- ユーザ定義関数\n",
        "\n",
        "\n",
        "### 組込み関数の利用例\n",
        "- デフォルト関数: インポートの必要がないもの(abs 等)\n",
        "- モジュール関数: インポートの必要があるもの(math モジュールなど)\n",
        "\n",
        "#### デフォルト関数の例\n",
        "##### 使用例1 abs\n",
        "絶対値を求める関数"
      ],
      "metadata": {
        "id": "QkDhXQKpzIkr"
      }
    },
    {
      "cell_type": "code",
      "source": [
        "abs(-2)"
      ],
      "metadata": {
        "id": "GRgaNdZuzI_o",
        "colab": {
          "base_uri": "https://localhost:8080/"
        },
        "outputId": "644a8a93-ced8-462d-a90e-3252d8f5ed92"
      },
      "execution_count": null,
      "outputs": [
        {
          "output_type": "execute_result",
          "data": {
            "text/plain": [
              "2"
            ]
          },
          "metadata": {},
          "execution_count": 3
        }
      ]
    },
    {
      "cell_type": "code",
      "source": [
        "abs(-5+12j)"
      ],
      "metadata": {
        "id": "1ABQvz5ozJJC",
        "colab": {
          "base_uri": "https://localhost:8080/"
        },
        "outputId": "5f5ae4da-789b-4af5-9240-d3df5a957c2d"
      },
      "execution_count": null,
      "outputs": [
        {
          "output_type": "execute_result",
          "data": {
            "text/plain": [
              "13.0"
            ]
          },
          "metadata": {},
          "execution_count": 5
        }
      ]
    },
    {
      "cell_type": "markdown",
      "source": [
        "##### 使用例2 input\n",
        "```\n",
        "代入される変数 = *input*(入力フォームに表示したい文字列)\n",
        "```"
      ],
      "metadata": {
        "id": "R7_sS76QYPpZ"
      }
    },
    {
      "cell_type": "code",
      "source": [
        "user_id = input(\"ユーザID: \")\n",
        "print(\"Hello,\", user_id, \"!\")"
      ],
      "metadata": {
        "colab": {
          "base_uri": "https://localhost:8080/"
        },
        "id": "I4J3uqx4YO9D",
        "outputId": "7d663770-0eb1-4caa-dc23-0848badd9249"
      },
      "execution_count": null,
      "outputs": [
        {
          "output_type": "stream",
          "name": "stdout",
          "text": [
            "ユーザID: RyoIIJIMA\n",
            "Hello, RyoIIJIMA !\n"
          ]
        }
      ]
    },
    {
      "cell_type": "markdown",
      "source": [
        "#### モジュール関数の例\n",
        "- math モジュールをimport する必要があります\n",
        "\n",
        "$sin(\\frac{\\pi}{2}) = 1$ の確認"
      ],
      "metadata": {
        "id": "8MN4skswADWV"
      }
    },
    {
      "cell_type": "code",
      "source": [
        "import math\n",
        "\n",
        "x = math.pi/2 \n",
        "\n",
        "print(math.sin(x))"
      ],
      "metadata": {
        "id": "zVuQdXAOACq2"
      },
      "execution_count": null,
      "outputs": []
    },
    {
      "cell_type": "markdown",
      "source": [
        "## 演習1\n",
        "57 ÷ 14 の商と余りを求めて，確かめ算を行って実際に割られる数と等しくなることを確認してください．\n",
        "余力があれば，計算式を変数にして，どの数字でも確認できるようにしてください．\n",
        "さらに余力があれば，割られる数と，計算結果が等しくなるかどうかを条件分岐で確認してください．\n",
        "### 確かめ算とは\n",
        "- [割る数 x 商 + あまり] が， 割られる数　と等しくなることを確認する計算"
      ],
      "metadata": {
        "id": "pZkItVqmnuGT"
      }
    },
    {
      "cell_type": "code",
      "source": [
        "# quotient 商\n",
        "# quotient = 57 ? 4\n",
        "# reminder あまり\n",
        "# quotient = 57 ? 4\n",
        "# result = ???\n"
      ],
      "metadata": {
        "id": "wNnMQVCFns3l"
      },
      "execution_count": null,
      "outputs": []
    },
    {
      "cell_type": "markdown",
      "source": [
        "## データ構造\n",
        "- List\n",
        "- Dictionary\n",
        "\n",
        "### List\n",
        "- [ ]で囲って，各要素後に「，（カンマ）」で区切る\n",
        "- 要素の型は，そろっていなくてもよい (list_b)\n",
        "- 連続するデータの記録・管理をするために使うことが多い\n",
        "\n",
        "#### 値の取り出し方\n",
        "リスト名[先頭からのデータ位置(0始まり)]\n"
      ],
      "metadata": {
        "id": "n6X6M16okv5U"
      }
    },
    {
      "cell_type": "code",
      "source": [
        "list_a = [5, 1, 3, 7, 10]\n",
        "print(list_a)\n",
        "\n",
        "\n",
        "list_b = [1.4, \"R\", -99999, 3-1j]\n",
        "print(list_b)\n",
        "\n",
        "print(list_a[1]) # 1\n",
        "print(list_b[3]) # 3-1j\n",
        "print(list_b[-1]) # 3-1j"
      ],
      "metadata": {
        "colab": {
          "base_uri": "https://localhost:8080/"
        },
        "id": "EnXwGQqSkvLu",
        "outputId": "76dbf619-74e8-437d-aa82-a3fe7445f5fc"
      },
      "execution_count": null,
      "outputs": [
        {
          "output_type": "stream",
          "name": "stdout",
          "text": [
            "[5, 1, 3, 7, 10]\n",
            "[1.4, 'R', -99999, (3-1j)]\n",
            "1\n",
            "(3-1j)\n",
            "(3-1j)\n"
          ]
        }
      ]
    },
    {
      "cell_type": "markdown",
      "source": [
        "#### Listの\n",
        "- 末尾に追加: append()\n",
        "- 末尾から削除: pop()\n",
        "- 指定した数字を変更: list_name[num] = value"
      ],
      "metadata": {
        "id": "Pq3P3RcAuwmt"
      }
    },
    {
      "cell_type": "code",
      "source": [
        "list_c =  [5, 6, 6, 8, 9]\n",
        "print(\"値の追加\")\n",
        "print(list_c)\n",
        "list_c.append(10)\n",
        "print(list_c)\n",
        "list_c.append(11)\n",
        "print(list_c)\n",
        "\n",
        "print(\"値の削除\")\n",
        "list_c.pop()\n",
        "print(list_c)\n",
        "list_c.pop()\n",
        "print(list_c)\n",
        "list_c.pop()\n",
        "print(list_c)\n",
        "\n",
        "print(\"値の変更\")\n",
        "list_c[2] = 7\n",
        "print(list_c)"
      ],
      "metadata": {
        "colab": {
          "base_uri": "https://localhost:8080/"
        },
        "id": "Q6468Oghuuvw",
        "outputId": "c834abc6-fe6c-4ec3-b8b9-f7ed79e0afd5"
      },
      "execution_count": null,
      "outputs": [
        {
          "output_type": "stream",
          "name": "stdout",
          "text": [
            "値の追加\n",
            "[5, 6, 6, 8, 9]\n",
            "[5, 6, 6, 8, 9, 10]\n",
            "[5, 6, 6, 8, 9, 10, 11]\n",
            "値の削除\n",
            "[5, 6, 6, 8, 9, 10]\n",
            "[5, 6, 6, 8, 9]\n",
            "[5, 6, 6, 8]\n",
            "値の変更\n",
            "[5, 6, 7, 8]\n"
          ]
        }
      ]
    },
    {
      "cell_type": "markdown",
      "source": [
        "### Dictionary\n",
        "- {\"キー1\": \"値1\", \"キー2\": \"値2\", ... ... } のように記入する\n",
        "- 辞書の左側の要素を「キー」，右側の要素を「値」と呼ぶ．\n",
        "- 二つの要素間の対応を管理するのに使うことが多い．\n",
        "\n",
        "#### 対応する値の取り出し方\n",
        "辞書名[\"キー名\"] の形式で取り出す"
      ],
      "metadata": {
        "id": "BGp_3DmRpgNy"
      }
    },
    {
      "cell_type": "code",
      "source": [
        "dict_winner_hands  = {\"rock\": \"paper\", \"scissor\": \"rock\", \"paper\": \"scissor\" }\n",
        "\n",
        "print(dict_winner_hands[\"rock\"])\n",
        "print(dict_winner_hands[\"scissor\"])\n",
        "print(dict_winner_hands[\"paper\"])"
      ],
      "metadata": {
        "colab": {
          "base_uri": "https://localhost:8080/"
        },
        "id": "cDhnraVzm9g6",
        "outputId": "b2340830-ff15-418f-b5c3-0d5afcc99a44"
      },
      "execution_count": null,
      "outputs": [
        {
          "output_type": "stream",
          "name": "stdout",
          "text": [
            "paper\n",
            "rock\n",
            "scissor\n"
          ]
        }
      ]
    },
    {
      "cell_type": "markdown",
      "source": [
        "### データ構造の種類\n",
        "- イテラブル iterable: 順にたどることが可能なデータ構造\n",
        "  - リスト\n",
        "  - 辞書\n",
        "  - 文字列\n",
        "\n",
        "- ミュータブル mutable: 値の変更，追加，削除ができるデータ構造"
      ],
      "metadata": {
        "id": "3Nw8bPiz-F5U"
      }
    },
    {
      "cell_type": "markdown",
      "source": [
        "### 演習2\n",
        "ユーザから，input関数を用いて，rock, scissor, paper のうちどれか一つを受け取り，必ず勝てる手を表示するプログラムを作成してください．以下のコードを利用することができます．\n"
      ],
      "metadata": {
        "id": "WEIJATbfxyjg"
      }
    },
    {
      "cell_type": "code",
      "source": [
        "dict_winner_hands  = {\"rock\": \"paper\", \"scissor\": \"rock\", \"paper\": \"scissor\" }\n",
        "\n",
        "your_hand = input(\"Please input your hand (rock/scissor/paper): \")\n",
        "# 以下のプログラムを変更\n",
        "print(\"My hand is ...\")"
      ],
      "metadata": {
        "colab": {
          "base_uri": "https://localhost:8080/"
        },
        "id": "sTS91hsjx_ng",
        "outputId": "0cd918d6-db06-43e1-f4c3-4b7e338c41b9"
      },
      "execution_count": null,
      "outputs": [
        {
          "output_type": "stream",
          "name": "stdout",
          "text": [
            "Please input your hand (rock/scissor/paper): rock\n",
            "My hand is ...\n"
          ]
        }
      ]
    },
    {
      "cell_type": "markdown",
      "source": [
        ""
      ],
      "metadata": {
        "id": "yaIyrse_sVnF"
      }
    },
    {
      "cell_type": "code",
      "source": [
        ""
      ],
      "metadata": {
        "id": "IyaW4wJSxxyQ"
      },
      "execution_count": null,
      "outputs": []
    },
    {
      "cell_type": "markdown",
      "source": [
        "## 条件分岐\n",
        "\n",
        "条件を満たした場合に実行される内容や処理はすべて1段インデントしてから記述する.\n",
        "インデントした命令のかたまりをブロックと呼ぶ．\n",
        "\n",
        "```\n",
        "if (条件):\n",
        "  条件を満たしたときに実行される内容\n",
        "else:\n",
        "  条件を満たさなかったときに実行される内容\n",
        "```\n"
      ],
      "metadata": {
        "id": "oB1ZY0gVs3pP"
      }
    },
    {
      "cell_type": "code",
      "source": [
        "x = 5\n",
        "if (x > 10):\n",
        "  print(\"xは10より大きいです\")\n",
        "else:\n",
        "  print(\"xは10以下です\")\n"
      ],
      "metadata": {
        "colab": {
          "base_uri": "https://localhost:8080/"
        },
        "id": "M1wXToDSvv1T",
        "outputId": "95cea11c-cac5-40e4-d831-796edd363e94"
      },
      "execution_count": null,
      "outputs": [
        {
          "output_type": "stream",
          "name": "stdout",
          "text": [
            "xは10以下です\n"
          ]
        }
      ]
    },
    {
      "cell_type": "code",
      "source": [
        "s = input()\n",
        "\n",
        "if s == \"ryo\":\n",
        "  print(\"Hello,\", s, \"san!\")\n",
        "else:\n",
        "  print(\"...\")\n"
      ],
      "metadata": {
        "colab": {
          "base_uri": "https://localhost:8080/"
        },
        "id": "lNF7cXZzv-B2",
        "outputId": "0084a89d-afc5-4380-c7ae-d72ab0a77ee8"
      },
      "execution_count": null,
      "outputs": [
        {
          "output_type": "stream",
          "name": "stdout",
          "text": [
            "ryo\n",
            "Hello, ryo san!\n"
          ]
        }
      ]
    },
    {
      "cell_type": "markdown",
      "source": [
        "### 条件の種類\n",
        "|条件|意味|例|\n",
        "|:-|:-|:-|\n",
        "|a == b|等しい|a == 4, s == \"ryo\"|\n",
        "|a < b|aはbより小さい|a < 0.5|\n",
        "|a > b|aはbより大きい|a > 0.5|\n",
        "|a != b|aはbと等しくない| a != 0|\n",
        "|a <= b|aはb以下| a <= 0.5|\n",
        "|a >= b|aはb以上| a >= 0.5|\n",
        "\n"
      ],
      "metadata": {
        "id": "LxZa7r3z0xsx"
      }
    },
    {
      "cell_type": "markdown",
      "source": [
        "### 追加の条件分岐 elif の使い方\n",
        "\n",
        "\n",
        "```\n",
        "if (条件1):\n",
        "  条件1を満たしたときに実行される内容\n",
        "elif (条件2):\n",
        "  条件1を満たさなかったが，条件2を満たしたときに実行される内容\n",
        "else:\n",
        "  条件1も条件2も満たさなかったときに実行される内容\n",
        "```"
      ],
      "metadata": {
        "id": "V_T7V_yOwIxu"
      }
    },
    {
      "cell_type": "code",
      "source": [
        "s = input(\"和訳したい英語を入れて下さい: \")\n",
        "\n",
        "print(s + \"は日本語で\")\n",
        "if (s == \"rice\"):\n",
        "  print(\"ごはん\")\n",
        "elif (s == \"bread\"):\n",
        "  print(\"パン\")\n",
        "elif (s == \"noodle\"):\n",
        "  print(\"うどん\")\n",
        "else:\n",
        "  print(\"まだその単語を知りません．\")"
      ],
      "metadata": {
        "colab": {
          "base_uri": "https://localhost:8080/"
        },
        "id": "35SsOPhMwd6e",
        "outputId": "cefad47a-c2a5-4e33-b8cc-a940ffc0df4b"
      },
      "execution_count": 1,
      "outputs": [
        {
          "output_type": "stream",
          "name": "stdout",
          "text": [
            "和訳したい英語を入れて下さい: rice\n",
            "riceは日本語で\n",
            "ごはん\n"
          ]
        }
      ]
    },
    {
      "cell_type": "markdown",
      "source": [
        "### ネストされたif文\n",
        "- if 文の実行内容の中に，さらにif文を書くこと 「if文のネスト」という\n",
        "- インデントした段落からさらに1つ分インデントする\n",
        "\n",
        "ポイント: 以下の例で，たとえy == 20 だとしても，x ==10 が満たされていなければ，\n",
        "```\n",
        "  if (x ==10):\n",
        "```\n",
        "以降は実行されない"
      ],
      "metadata": {
        "id": "_WKVFcBpzj_i"
      }
    },
    {
      "cell_type": "code",
      "source": [
        "x = 6\n",
        "y = 20\n",
        "\n",
        "if (x == 10):\n",
        "  print(\"x is equal to 10\")\n",
        "  if (y == 20):\n",
        "    print(\"and y is equal to 20\")"
      ],
      "metadata": {
        "id": "_ApVmbnpzjIB"
      },
      "execution_count": null,
      "outputs": []
    },
    {
      "cell_type": "markdown",
      "source": [
        "## 演習3 コイン投げ\n",
        "\n",
        "random ライブラリをimport して，表(H), 裏(T)がそれぞれ等しい確率で現れるプログラムを作成してください．\n"
      ],
      "metadata": {
        "id": "Y0ms9xDYCIyS"
      }
    },
    {
      "cell_type": "code",
      "source": [
        "import random\n",
        "\n",
        "random.random()"
      ],
      "metadata": {
        "id": "2uUp79JaCMQr"
      },
      "execution_count": null,
      "outputs": []
    },
    {
      "cell_type": "markdown",
      "source": [
        "## 繰り返し\n",
        "\n",
        "### while 文\n",
        "条件を満たしている間，インデントした命令文を実行し続ける．\n",
        "\n",
        "```\n",
        "while (条件):\n",
        "  処理1\n",
        "  処理2\n",
        "```\n",
        "\n",
        "インデントした部分（黄色枠）のことを「ブロック」と呼ぶ．\n",
        "\n",
        "\n",
        "### for 文\n",
        "\n",
        "\n",
        "\n",
        "一般的な書き方\n",
        "```\n",
        "for 変数 in iterableなオブジェクト:\n",
        "    処理1\n",
        "    処理2\n",
        "```\n",
        "\n",
        "例: リストを用いる場合\n",
        "```\n",
        "for 変数 in [リスト]:\n",
        "    処理1\n",
        "    処理2\n",
        "```\n",
        "\n",
        "インデントした部分（黄色枠）のことを「ブロック」と呼ぶ．\n"
      ],
      "metadata": {
        "id": "_JhwvfCw11yP"
      }
    },
    {
      "cell_type": "code",
      "source": [
        "x = 1\n",
        "while x < 10:\n",
        "  print(x)\n",
        "  x += 1"
      ],
      "metadata": {
        "id": "G61ho8kq13pS",
        "colab": {
          "base_uri": "https://localhost:8080/"
        },
        "outputId": "3f31dc2a-8178-43cb-f35f-74b6e3540014"
      },
      "execution_count": null,
      "outputs": [
        {
          "output_type": "stream",
          "name": "stdout",
          "text": [
            "1\n",
            "2\n",
            "3\n",
            "4\n",
            "5\n",
            "6\n",
            "7\n",
            "8\n",
            "9\n"
          ]
        }
      ]
    },
    {
      "cell_type": "code",
      "source": [
        "x = 2\n",
        "\n",
        "while x < 20:\n",
        "  print(x)\n",
        "  x += 2"
      ],
      "metadata": {
        "colab": {
          "base_uri": "https://localhost:8080/"
        },
        "id": "DPYu7cDP5bfl",
        "outputId": "3fa3c733-2deb-4321-bd24-8cb0aa3f9eec"
      },
      "execution_count": null,
      "outputs": [
        {
          "output_type": "stream",
          "name": "stdout",
          "text": [
            "2\n",
            "4\n",
            "6\n",
            "8\n",
            "10\n",
            "12\n",
            "14\n",
            "16\n",
            "18\n"
          ]
        }
      ]
    },
    {
      "cell_type": "code",
      "source": [
        "for x in [0, 1, 2, 3, 4]:\n",
        "  x *= 2\n",
        "  print(x)"
      ],
      "metadata": {
        "colab": {
          "base_uri": "https://localhost:8080/"
        },
        "id": "QpzRGyrn5fmx",
        "outputId": "7c1ae7ea-3c9a-417f-a875-e38652453f65"
      },
      "execution_count": null,
      "outputs": [
        {
          "output_type": "stream",
          "name": "stdout",
          "text": [
            "0\n",
            "2\n",
            "4\n",
            "6\n",
            "8\n"
          ]
        }
      ]
    },
    {
      "cell_type": "markdown",
      "source": [
        "#### Tips: range 関数\n",
        "連続する数字を作成する関数\n",
        "\n",
        "```\n",
        "range(end) # 0からend 手前までの公差1の等差数列 (endは含まない)\n",
        "range(start, end) #start から end 手前までの公差1の等差数列\n",
        "range(start, end, step) # start から end 手前までの公差stepの等差数列\n",
        "\n",
        "range(5) # [0, 1, 2, 3, 4]\n",
        "range(2, 5) # [2, 3, 4]\n",
        "\n",
        "```"
      ],
      "metadata": {
        "id": "bDwLuFPP5m2e"
      }
    },
    {
      "cell_type": "code",
      "source": [
        "print(list(range(5)))"
      ],
      "metadata": {
        "colab": {
          "base_uri": "https://localhost:8080/"
        },
        "id": "G7kPNHss6kY4",
        "outputId": "e20cc1f1-6ea3-4987-a8a2-29b9b05b97df"
      },
      "execution_count": null,
      "outputs": [
        {
          "output_type": "stream",
          "name": "stdout",
          "text": [
            "[0, 1, 2, 3, 4]\n"
          ]
        }
      ]
    },
    {
      "cell_type": "code",
      "source": [
        "print(list(range(2,5)))"
      ],
      "metadata": {
        "colab": {
          "base_uri": "https://localhost:8080/"
        },
        "id": "sJytDtfZ6pgs",
        "outputId": "825ca857-3d9e-4e06-a2f6-82b5c55b8abd"
      },
      "execution_count": null,
      "outputs": [
        {
          "output_type": "stream",
          "name": "stdout",
          "text": [
            "[2, 3, 4]\n"
          ]
        }
      ]
    },
    {
      "cell_type": "code",
      "source": [
        "print(list(range(2, 20, 3)))"
      ],
      "metadata": {
        "colab": {
          "base_uri": "https://localhost:8080/"
        },
        "id": "SPpSfGcR6wqy",
        "outputId": "60978996-3f22-40b6-e795-54e2ee3eb10f"
      },
      "execution_count": null,
      "outputs": [
        {
          "output_type": "stream",
          "name": "stdout",
          "text": [
            "[2, 5, 8, 11, 14, 17]\n"
          ]
        }
      ]
    },
    {
      "cell_type": "code",
      "source": [
        "for x in range(5):\n",
        "  x *= 2\n",
        "  print(x)"
      ],
      "metadata": {
        "colab": {
          "base_uri": "https://localhost:8080/"
        },
        "id": "fWJMqdup6-9y",
        "outputId": "dbd5a900-8a99-43ee-e09d-12ede546d361"
      },
      "execution_count": null,
      "outputs": [
        {
          "output_type": "stream",
          "name": "stdout",
          "text": [
            "0\n",
            "2\n",
            "4\n",
            "6\n",
            "8\n"
          ]
        }
      ]
    },
    {
      "cell_type": "markdown",
      "source": [
        "###  break/continue\n",
        "\n",
        "while や for は特定の条件のときにブロック途中で強制終了させ、ループを抜けることができる。  \n",
        "強制終了には ``break`` 文を用いる。\n",
        "\n",
        "またブロック途中で切り上げて、次のループに進む場合は ``continue`` 文を用いる。"
      ],
      "metadata": {
        "id": "mPkklrg4dAbi"
      }
    },
    {
      "cell_type": "code",
      "source": [
        "import random\n",
        "\n",
        "t = 0\n",
        "while (t < 10):\n",
        "  x = random.random()\n",
        "  if (x < 0.7):\n",
        "    print(\"チャレンジ失敗\")\n",
        "  else:\n",
        "    print(\"チャレンジ成功\")\n",
        "    break\n",
        "  \n",
        "  t += 1\n",
        "\n",
        "print(\"Finish.\")"
      ],
      "metadata": {
        "id": "Px3nq7mac_qI",
        "colab": {
          "base_uri": "https://localhost:8080/"
        },
        "outputId": "fb2e155f-b592-4106-c087-9c229ebe5c7f"
      },
      "execution_count": 7,
      "outputs": [
        {
          "output_type": "stream",
          "name": "stdout",
          "text": [
            "チャレンジ失敗\n",
            "チャレンジ失敗\n",
            "チャレンジ失敗\n",
            "チャレンジ失敗\n",
            "チャレンジ失敗\n",
            "チャレンジ失敗\n",
            "チャレンジ失敗\n",
            "チャレンジ成功\n",
            "Finish.\n"
          ]
        }
      ]
    },
    {
      "cell_type": "code",
      "source": [
        "import random\n",
        "\n",
        "t = 0\n",
        "while (t < 10):\n",
        "  x = random.random()\n",
        "  if (x < 0.7):\n",
        "    print(\"チャレンジ失敗\")\n",
        "  else:\n",
        "    print(\"チャレンジ成功\")\n",
        "    continue\n",
        "  \n",
        "  t += 1\n",
        "\n",
        "print(\"Finish.\")"
      ],
      "metadata": {
        "colab": {
          "base_uri": "https://localhost:8080/"
        },
        "id": "uymO8Kd1Bkp8",
        "outputId": "4512ee95-f91c-4159-fed6-0af51b864318"
      },
      "execution_count": 5,
      "outputs": [
        {
          "output_type": "stream",
          "name": "stdout",
          "text": [
            "チャレンジ失敗\n",
            "チャレンジ失敗\n",
            "チャレンジ成功\n",
            "チャレンジ成功\n",
            "チャレンジ失敗\n",
            "チャレンジ成功\n",
            "チャレンジ成功\n",
            "チャレンジ失敗\n",
            "チャレンジ失敗\n",
            "チャレンジ失敗\n",
            "チャレンジ失敗\n",
            "チャレンジ失敗\n",
            "チャレンジ失敗\n",
            "チャレンジ失敗\n",
            "Finish.\n"
          ]
        }
      ]
    },
    {
      "cell_type": "code",
      "source": [
        "import random\n",
        "t = 0\n",
        "HP = 10\n",
        "while (t < 5):\n",
        "  t += 1\n",
        "  print(\"現在のHP:\", HP)\n",
        "  x = random.random()\n",
        "  if (x < 0.7):\n",
        "    print(\"チャレンジ失敗\")\n",
        "    continue\n",
        "\n",
        "  print(\"チャレンジ成功，HPを3回復します．\")\n",
        "  HP += 3\n",
        "\n"
      ],
      "metadata": {
        "colab": {
          "base_uri": "https://localhost:8080/"
        },
        "id": "K2Pn1rUSBq3v",
        "outputId": "fc60c37a-df0a-4a0f-99ac-5a02c64bcd8d"
      },
      "execution_count": 9,
      "outputs": [
        {
          "output_type": "stream",
          "name": "stdout",
          "text": [
            "現在のHP: 10\n",
            "チャレンジ失敗\n",
            "現在のHP: 10\n",
            "チャレンジ失敗\n",
            "現在のHP: 10\n",
            "チャレンジ成功，HPを3回復します．\n",
            "現在のHP: 13\n",
            "チャレンジ失敗\n",
            "現在のHP: 13\n",
            "チャレンジ失敗\n"
          ]
        }
      ]
    },
    {
      "cell_type": "code",
      "source": [
        "# チャレンジ失敗したらダメージ計算も追加\n",
        "import random\n",
        "t = 0\n",
        "HP = 10\n",
        "while (t < 20):\n",
        "  t += 1\n",
        "  print(\"現在のHP:\", HP)\n",
        "  x = random.random()\n",
        "  if (x < 0.9):\n",
        "    print(\"チャレンジ失敗，HPに1ダメージを受けます\")\n",
        "    HP -= 1\n",
        "    continue\n",
        "\n",
        "  print(\"チャレンジ成功，HPを3回復します．\")\n",
        "  HP += 3\n",
        "\n"
      ],
      "metadata": {
        "colab": {
          "base_uri": "https://localhost:8080/"
        },
        "id": "wzTQo2Q2DyRU",
        "outputId": "a6919040-1f29-42f6-e8f0-9b66f98bd8b4"
      },
      "execution_count": 11,
      "outputs": [
        {
          "output_type": "stream",
          "name": "stdout",
          "text": [
            "現在のHP: 10\n",
            "チャレンジ失敗，HPに1ダメージを受けます\n",
            "現在のHP: 9\n",
            "チャレンジ失敗，HPに1ダメージを受けます\n",
            "現在のHP: 8\n",
            "チャレンジ失敗，HPに1ダメージを受けます\n",
            "現在のHP: 7\n",
            "チャレンジ失敗，HPに1ダメージを受けます\n",
            "現在のHP: 6\n",
            "チャレンジ失敗，HPに1ダメージを受けます\n",
            "現在のHP: 5\n",
            "チャレンジ失敗，HPに1ダメージを受けます\n",
            "現在のHP: 4\n",
            "チャレンジ失敗，HPに1ダメージを受けます\n",
            "現在のHP: 3\n",
            "チャレンジ成功，HPを3回復します．\n",
            "現在のHP: 6\n",
            "チャレンジ成功，HPを3回復します．\n",
            "現在のHP: 9\n",
            "チャレンジ失敗，HPに1ダメージを受けます\n",
            "現在のHP: 8\n",
            "チャレンジ失敗，HPに1ダメージを受けます\n",
            "現在のHP: 7\n",
            "チャレンジ失敗，HPに1ダメージを受けます\n",
            "現在のHP: 6\n",
            "チャレンジ失敗，HPに1ダメージを受けます\n",
            "現在のHP: 5\n",
            "チャレンジ失敗，HPに1ダメージを受けます\n",
            "現在のHP: 4\n",
            "チャレンジ成功，HPを3回復します．\n",
            "現在のHP: 7\n",
            "チャレンジ失敗，HPに1ダメージを受けます\n",
            "現在のHP: 6\n",
            "チャレンジ失敗，HPに1ダメージを受けます\n",
            "現在のHP: 5\n",
            "チャレンジ失敗，HPに1ダメージを受けます\n",
            "現在のHP: 4\n",
            "チャレンジ失敗，HPに1ダメージを受けます\n",
            "現在のHP: 3\n",
            "チャレンジ失敗，HPに1ダメージを受けます\n"
          ]
        }
      ]
    },
    {
      "cell_type": "markdown",
      "source": [
        "## 演習問題\n",
        "\n",
        "上のプログラムには，HPが0になったら終了するという機能がありません．適宜 break / continueなどの中断文を用いて，「HPが0になったらGameoverと表示して終了する」という処理を追加してください．"
      ],
      "metadata": {
        "id": "Mvf3uD1UEESJ"
      }
    },
    {
      "cell_type": "code",
      "source": [
        "# このままではHPが0を下回ってもゲームが続いてしまう\n",
        "import random\n",
        "t = 0\n",
        "HP = 3\n",
        "while (t < 20):\n",
        "  t += 1\n",
        "  print(\"現在のHP:\", HP)\n",
        "# -----------変更範囲ここから----------------------\n",
        "\n",
        "  # この下に 「HPが0かどうかを判定し，0ならゲームそのものを終了させる処理」を追加してください．\n",
        "\n",
        "\n",
        "\n",
        "# -----------変更範囲ここまで----------------------\n",
        "  x = random.random()\n",
        "  if (x < 0.9):\n",
        "    print(\"チャレンジ失敗，HPに1ダメージを受けます\")\n",
        "    HP -= 1\n",
        "    continue\n",
        "\n",
        "  print(\"チャレンジ成功，HPを1回復します．\")\n",
        "  HP += 1\n",
        "\n"
      ],
      "metadata": {
        "colab": {
          "base_uri": "https://localhost:8080/"
        },
        "id": "ttde9y6_EHLi",
        "outputId": "3f26bcaf-2ebd-4761-fb46-4335a6b01408"
      },
      "execution_count": 13,
      "outputs": [
        {
          "output_type": "stream",
          "name": "stdout",
          "text": [
            "現在のHP: 3\n",
            "チャレンジ失敗，HPに1ダメージを受けます\n",
            "現在のHP: 2\n",
            "チャレンジ成功，HPを1回復します．\n",
            "現在のHP: 3\n",
            "チャレンジ失敗，HPに1ダメージを受けます\n",
            "現在のHP: 2\n",
            "チャレンジ失敗，HPに1ダメージを受けます\n",
            "現在のHP: 1\n",
            "チャレンジ失敗，HPに1ダメージを受けます\n",
            "現在のHP: 0\n",
            "チャレンジ成功，HPを1回復します．\n",
            "現在のHP: 1\n",
            "チャレンジ成功，HPを1回復します．\n",
            "現在のHP: 2\n",
            "チャレンジ失敗，HPに1ダメージを受けます\n",
            "現在のHP: 1\n",
            "チャレンジ失敗，HPに1ダメージを受けます\n",
            "現在のHP: 0\n",
            "チャレンジ失敗，HPに1ダメージを受けます\n",
            "現在のHP: -1\n",
            "チャレンジ失敗，HPに1ダメージを受けます\n",
            "現在のHP: -2\n",
            "チャレンジ失敗，HPに1ダメージを受けます\n",
            "現在のHP: -3\n",
            "チャレンジ失敗，HPに1ダメージを受けます\n",
            "現在のHP: -4\n",
            "チャレンジ失敗，HPに1ダメージを受けます\n",
            "現在のHP: -5\n",
            "チャレンジ失敗，HPに1ダメージを受けます\n",
            "現在のHP: -6\n",
            "チャレンジ失敗，HPに1ダメージを受けます\n",
            "現在のHP: -7\n",
            "チャレンジ失敗，HPに1ダメージを受けます\n",
            "現在のHP: -8\n",
            "チャレンジ失敗，HPに1ダメージを受けます\n",
            "現在のHP: -9\n",
            "チャレンジ失敗，HPに1ダメージを受けます\n",
            "現在のHP: -10\n",
            "チャレンジ失敗，HPに1ダメージを受けます\n"
          ]
        }
      ]
    },
    {
      "cell_type": "markdown",
      "source": [
        "## 関数定義\n",
        "\n",
        "\n",
        "```\n",
        "def 関数名 (引数1, 引数2, 引数3, … … 引数n):\n",
        "    処理1\n",
        "    処理2\n",
        "    処理3\n",
        "    … …\n",
        "return 戻り値\n",
        "```\n",
        "\n",
        "### 処理の部分には何を書くのか?\n",
        "- 計算式\n",
        "- 条件分岐 / 繰り返し\n",
        "- 今まで使ってきた関数(機能)"
      ],
      "metadata": {
        "id": "FHprh-II15Ca"
      }
    },
    {
      "cell_type": "code",
      "source": [
        "# 関数定義の部分\n",
        "def hm2s(hour, minute):\n",
        "  second = hour * 3600 + minute * 60\n",
        "  return second\n",
        "\n",
        "# 関数の利用\n",
        "print(hm2s(2, 30))\n"
      ],
      "metadata": {
        "colab": {
          "base_uri": "https://localhost:8080/"
        },
        "id": "ZaID6xGTCBti",
        "outputId": "665480a7-32ef-4876-c249-99b849f03d2d"
      },
      "execution_count": null,
      "outputs": [
        {
          "output_type": "stream",
          "name": "stdout",
          "text": [
            "9000\n"
          ]
        }
      ]
    },
    {
      "cell_type": "code",
      "source": [
        "import random\n",
        "# コインを投げる関数\n",
        "def coin(): # 引数は何も指定しなくてもよい\n",
        "  x = random.random()\n",
        "  if (x > 0.5):\n",
        "    return \"H\"\n",
        "  else:\n",
        "    return \"T\"\n",
        "  \n",
        "# コインを投げる\n",
        "print(coin())\n"
      ],
      "metadata": {
        "colab": {
          "base_uri": "https://localhost:8080/"
        },
        "id": "vNNel3-GCCs8",
        "outputId": "610231d1-e15d-4378-aa7a-e48427751ab4"
      },
      "execution_count": null,
      "outputs": [
        {
          "output_type": "stream",
          "name": "stdout",
          "text": [
            "H\n"
          ]
        }
      ]
    },
    {
      "cell_type": "code",
      "source": [
        "def controlled_coin(threshold=0.5): # デフォルト引数: 何も指定しなければthresholdに0.5が代入される\n",
        "  x = random.random()\n",
        "  if (x > threshold):\n",
        "    return \"H\"\n",
        "  else:\n",
        "    return \"T\"\n",
        "\n",
        "print(\"確率の等しいコイン:\", controlled_coin())\n",
        "print(\"確率を操作したコイン: \", controlled_coin(threshold=0.01)) # 表が出やすくしたコイン"
      ],
      "metadata": {
        "colab": {
          "base_uri": "https://localhost:8080/"
        },
        "id": "N3AZkZWVLAya",
        "outputId": "0bbeed37-00b6-46a5-df84-0895c43451ab"
      },
      "execution_count": null,
      "outputs": [
        {
          "output_type": "stream",
          "name": "stdout",
          "text": [
            "確率の等しいコイン: T\n",
            "確率を操作したコイン:  H\n"
          ]
        }
      ]
    },
    {
      "cell_type": "markdown",
      "source": [
        "### 関数定義を利用するメリット\n",
        "#### コードの再利用\n",
        "- 同じようなコードを何度も書かなくていい．\n",
        "- 繰り返し文よりも自由度の高い繰り返し利用ができる．\n",
        "\n",
        "#### コードの視認性\n",
        "- わかりやすいコードになる\n",
        "- 機能ごとに名前を付けることで，どの行で何をしているのかがわかりやすくなる．\n",
        "- うまく名前を決めて処理を書くと，時間が経ってから読み返しても内容がわかる．\n",
        "  - [リーダブルコード]( https://www.amazon.co.jp/dp/4873115655/ref=cm_sw_em_r_mt_dp_EMGEK13Z64YD048BVMKV)"
      ],
      "metadata": {
        "id": "XhvfBcbqyHfD"
      }
    },
    {
      "cell_type": "markdown",
      "source": [
        "## 演習問題 (Data Science)\n",
        "- 上で作成した ``controlled_coin``を100回振るプログラムを作成して下さい．\n",
        "- その結果をリスト``results``の末尾に追加していき，H, Tがそれぞれ何回ずつ出たか，本当に指定した通りの割合通りに出力がされているかを確認してください．\n",
        "- "
      ],
      "metadata": {
        "id": "yuxR-8zWMJOo"
      }
    },
    {
      "cell_type": "code",
      "source": [
        "# 演習問題入力用\n",
        "results = []"
      ],
      "metadata": {
        "id": "qYr34KZMOKGe"
      },
      "execution_count": null,
      "outputs": []
    },
    {
      "cell_type": "markdown",
      "source": [
        "## 演習問題 (Game tools)\n",
        "TRPGでは，ゲームの進行を決めるために，面数を指定されたダイスを振るという行動を要する\\．\n",
        "例えば，[1d10]ならば，10面のダイスを1回，[3D100]ならば100面のダイスを3回振ることを意味する．\n",
        "random.randint() 関数について調べ，input関数で MdNの文字列を受け取って，さいころの結果を出力する関数を作成してください．\n",
        "\n",
        "### 例\n",
        "入力: 3d100\n",
        "出力:\n",
        "23\n",
        "57\n",
        "1"
      ],
      "metadata": {
        "id": "MLQSTDprMQ3f"
      }
    },
    {
      "cell_type": "code",
      "source": [
        "dicesetting =  input(\"please enter the dice setting (MdN), M means times, and N means max number of dice number: \")\n",
        "M, N = (i for i in dicesetting.split(\"d\"))\n",
        "print(M, N)"
      ],
      "metadata": {
        "colab": {
          "base_uri": "https://localhost:8080/"
        },
        "id": "cUamIZKIMP8a",
        "outputId": "6b02ab4f-c208-43a2-ecf1-7fd401f9fe9d"
      },
      "execution_count": null,
      "outputs": [
        {
          "output_type": "stream",
          "name": "stdout",
          "text": [
            "please enter the dice setting (MdN), M means times, and N means max number of dice number: 3d100\n",
            "3 100\n"
          ]
        }
      ]
    },
    {
      "cell_type": "markdown",
      "source": [
        "# 応用: 数値シミュレーション\n",
        "## ロケットの逆噴射\n",
        "- "
      ],
      "metadata": {
        "id": "UG-almw1TITg"
      }
    },
    {
      "cell_type": "code",
      "source": [
        "# -*- coding: utf-8 -*-\n",
        "# 9/17 用演習プログラム ロケットの逆噴射\n",
        "import numpy as np\n",
        "import matplotlib.pyplot as plt\n",
        "\n",
        "# 定数   \n",
        "g = 9.8 \n",
        "\n",
        "# tf 秒後に逆噴射の加速度を返す関数\n",
        "\n",
        "def retrofire(t, tf):\n",
        "    if t >= tf:\n",
        "        return -1.5 * g  #重力の1.5倍の加速度で逆噴射を行う（ロケットの重さは考えない）\n",
        "    else:\n",
        "        return 0.0;    \n",
        "\n",
        "t = 0.0   # 時刻t\n",
        "dt = 0.01  # 時刻の刻み幅\n",
        "\n",
        "# 係数の入力\n",
        "v = float(input(\"初速度v0を入力してください:\"))\n",
        "x0 = float(input(\"初期高度x0を入力してください:\"))\n",
        "tf = float(input(\"開始時刻tfを入力してください:\"))\n",
        "x = x0  # 初期高度の設定\n",
        "\n",
        "\n",
        "tlist = [t]\n",
        "xlist = [x]\n",
        "# 自由落下の計算\n",
        "while (x > 0) and (x <= x0):  \n",
        "    t += dt                           # 時刻の更新\n",
        "    v += (g + retrofire(t, tf)) * dt                                 # 速度の計算\n",
        "    x -= v * dt                                 # 位置の更新\n",
        "\n",
        "    tlist.append(t)\n",
        "    xlist.append(x)\n",
        "# グラフの表示\n",
        "plt.plot(tlist, xlist)  # グラフをプロット\n",
        "plt.ylabel(\"height x [m]\")\n",
        "plt.xlabel(\"time t [s]\")\n",
        "plt.show()\n",
        "\n"
      ],
      "metadata": {
        "colab": {
          "base_uri": "https://localhost:8080/",
          "height": 333
        },
        "id": "4QJ8wO5uTWFv",
        "outputId": "f578f4d5-574d-412c-ecf6-15579007a794"
      },
      "execution_count": null,
      "outputs": [
        {
          "name": "stdout",
          "output_type": "stream",
          "text": [
            "初速度v0を入力してください:0\n",
            "初期高度x0を入力してください:100\n",
            "開始時刻tfを入力してください:2.2\n"
          ]
        },
        {
          "output_type": "display_data",
          "data": {
            "text/plain": [
              "<Figure size 432x288 with 1 Axes>"
            ],
            "image/png": "[encoded data removed]"
          },
          "metadata": {
            "needs_background": "light"
          }
        }
      ]
    },
    {
      "cell_type": "markdown",
      "source": [
        "## 雨水の落下"
      ],
      "metadata": {
        "id": "ANvqCfh1Wju0"
      }
    },
    {
      "cell_type": "code",
      "source": [
        "# 雨水の落下\n",
        "\n",
        "import matplotlib.pyplot as plt\n",
        "g = 9.8 # 重力加速度 g[m/s^2]\n",
        "v = 0 #初速度 v0 [m/s]\n",
        "x = 2000 # 初期高度 x0 [m]\n",
        " \n",
        "t = 0.0 # 時間 t[s]\n",
        "dt = 0.01 # 区切る時間の幅Δt \n",
        "k = 1.089 * pow(10, -5)\n",
        "m = 0.0000005\n",
        "TIME_END = 1000\n",
        "\n",
        "print(\"終端速度: \", m*g / k) # 終端速度\n",
        "\n",
        "tlist = []\n",
        "vlist = []\n",
        "\n",
        "while x > 0:\n",
        "  t += dt\n",
        "  a = g - k/m * v  # F=maによって求めた 加速度\n",
        "  v += a * dt      # 速度は，加速度を足していったもの\n",
        "  x -= v * dt      # 位置は，速度を足していったもの\n",
        "\n",
        "  tlist.append(t)\n",
        "  vlist.append(v)\n",
        "\n",
        "plt.plot(tlist[:50], vlist[:50])\n",
        "plt.xlabel(\"time t [s]\")\n",
        "plt.ylabel(\"velocity [m/s]\")\n",
        "plt.show()"
      ],
      "metadata": {
        "colab": {
          "base_uri": "https://localhost:8080/",
          "height": 297
        },
        "id": "yg-c5CU6THie",
        "outputId": "0f313830-1557-42eb-8a71-1ca2cf346cde"
      },
      "execution_count": null,
      "outputs": [
        {
          "output_type": "stream",
          "name": "stdout",
          "text": [
            "終端速度:  0.4499540863177227\n"
          ]
        },
        {
          "output_type": "display_data",
          "data": {
            "text/plain": [
              "<Figure size 432x288 with 1 Axes>"
            ],
            "image/png": "[encoded data removed]"
          },
          "metadata": {
            "needs_background": "light"
          }
        }
      ]
    }
  ]
}