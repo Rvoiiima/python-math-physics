{
  "nbformat": 4,
  "nbformat_minor": 0,
  "metadata": {
    "colab": {
      "name": "programming-python-6-function.ipynb",
      "provenance": [],
      "authorship_tag": "ABX9TyO/4VScmAuQuU0pbDDKu/Pz",
      "include_colab_link": true
    },
    "kernelspec": {
      "name": "python3",
      "display_name": "Python 3"
    },
    "language_info": {
      "name": "python"
    }
  },
  "cells": [
    {
      "cell_type": "markdown",
      "metadata": {
        "id": "view-in-github",
        "colab_type": "text"
      },
      "source": [
        "<a href=\"https://colab.research.google.com/github/Rvoiiima/python-math-physics/blob/main/programming_python_6_function.ipynb\" target=\"_parent\"><img src=\"https://colab.research.google.com/assets/colab-badge.svg\" alt=\"Open In Colab\"/></a>"
      ]
    },
    {
      "cell_type": "markdown",
      "metadata": {
        "id": "Ho3d-uM1R9yX"
      },
      "source": [
        "# Python入門 第6回 関数の利用\n",
        "- [資料](https://ryo-iijima.com/blog/wp-content/uploads/2021/01/python-6-function.pdf)\n",
        "## 関数とは\n",
        "- 入力した数字や文字に対して，処理をした結果を出力するもの\n",
        "- 処理ごとに\"関数名\"が割り当てられる\n",
        "\n",
        "\n",
        "## 関数の種類\n",
        "- 組み込み関数\n",
        "- ユーザ定義関数\n",
        "\n",
        "\n",
        "### 組込み関数の利用例\n",
        "- デフォルト関数: インポートの必要がないもの(abs 等)\n",
        "- モジュール関数: インポートの必要があるもの(math モジュールなど)\n",
        "\n",
        "#### デフォルト関数の例"
      ]
    },
    {
      "cell_type": "code",
      "metadata": {
        "colab": {
          "base_uri": "https://localhost:8080/"
        },
        "id": "3tjqyjvoR06e",
        "outputId": "51509df8-be9c-4dec-9504-1cd2de14eec6"
      },
      "source": [
        "a = -5\n",
        "\n",
        "print(abs(a))\n",
        "# print(abs(-5))\n",
        "# print(5)\n",
        "\n",
        "#のようにプログラムが置き換えられる．\n",
        "\n",
        "b = 5-12j\n",
        "print(abs(b))"
      ],
      "execution_count": 1,
      "outputs": [
        {
          "output_type": "stream",
          "text": [
            "5\n",
            "13.0\n"
          ],
          "name": "stdout"
        }
      ]
    },
    {
      "cell_type": "code",
      "metadata": {
        "id": "qRkn1tNNSsYa"
      },
      "source": [
        ""
      ],
      "execution_count": null,
      "outputs": []
    },
    {
      "cell_type": "markdown",
      "metadata": {
        "id": "2felM0HQSsm3"
      },
      "source": [
        "#### モジュール関数の例\n",
        "- math モジュールをimport する必要があります\n",
        "\n",
        "$sin(\\frac{\\pi}{2}) = 1$ の確認"
      ]
    },
    {
      "cell_type": "code",
      "metadata": {
        "colab": {
          "base_uri": "https://localhost:8080/"
        },
        "id": "sQ-pHtmUSqod",
        "outputId": "54e2af3d-727a-4c9e-e872-cf4559b469f2"
      },
      "source": [
        "import math\n",
        "\n",
        "x = math.pi/2 \n",
        "\n",
        "print(math.sin(x))"
      ],
      "execution_count": 2,
      "outputs": [
        {
          "output_type": "stream",
          "text": [
            "1.0\n"
          ],
          "name": "stdout"
        }
      ]
    },
    {
      "cell_type": "code",
      "metadata": {
        "id": "7xnmevReTeQo"
      },
      "source": [
        ""
      ],
      "execution_count": null,
      "outputs": []
    },
    {
      "cell_type": "markdown",
      "metadata": {
        "id": "Zb4kfhiSTHMV"
      },
      "source": [
        "## 関数定義\n",
        "\n",
        "```\n",
        "def 関数名 (引数1, 引数2, 引数3, … … 引数n):\n",
        "    処理1\n",
        "    処理2\n",
        "    処理3\n",
        "    … …\n",
        "return 戻り値\n",
        "```\n",
        "\n",
        "### 処理の部分には何を書くのか?\n",
        "- 計算式\n",
        "- 条件分岐 / 繰り返し\n",
        "- 今まで使ってきた関数(機能)"
      ]
    },
    {
      "cell_type": "markdown",
      "metadata": {
        "id": "8Ezeh9DZTiaC"
      },
      "source": [
        "### 関数定義の例"
      ]
    },
    {
      "cell_type": "code",
      "metadata": {
        "colab": {
          "base_uri": "https://localhost:8080/"
        },
        "id": "vTTpNEumTj6K",
        "outputId": "fe96eaf8-00c4-4b8e-d859-e95bb5423c20"
      },
      "source": [
        "# 関数定義の部分\n",
        "def hm2s(hour, minute):\n",
        "  second = hour * 3600 + minute * 60\n",
        "  return second\n",
        "\n",
        "# 関数の利用\n",
        "print(hm2s(2, 30))\n"
      ],
      "execution_count": 3,
      "outputs": [
        {
          "output_type": "stream",
          "text": [
            "9000\n"
          ],
          "name": "stdout"
        }
      ]
    },
    {
      "cell_type": "code",
      "metadata": {
        "colab": {
          "base_uri": "https://localhost:8080/"
        },
        "id": "dp_JGENOTrg8",
        "outputId": "09b12b0e-dc8d-4045-84a4-fdd2d93535bb"
      },
      "source": [
        "import random\n",
        "# コインを投げる関数\n",
        "def coin():\n",
        "  x = random.random()\n",
        "  if (x > 0.5):\n",
        "    return \"H\"\n",
        "  else:\n",
        "    return \"T\"\n",
        "  \n",
        "# コインを投げる\n",
        "print(coin())\n"
      ],
      "execution_count": 4,
      "outputs": [
        {
          "output_type": "stream",
          "text": [
            "T\n"
          ],
          "name": "stdout"
        }
      ]
    },
    {
      "cell_type": "code",
      "metadata": {
        "colab": {
          "base_uri": "https://localhost:8080/"
        },
        "id": "NEtOdp-oTsTq",
        "outputId": "27c6f8f9-60e0-441d-eade-c9e6a28a249c"
      },
      "source": [
        "def coin2(rate):\n",
        "  x = random.random()\n",
        "  if (x > rate):\n",
        "    return \"H\"\n",
        "  else:\n",
        "    return \"T\"\n",
        "\n",
        "print(coin2(0.2))"
      ],
      "execution_count": 5,
      "outputs": [
        {
          "output_type": "stream",
          "text": [
            "H\n"
          ],
          "name": "stdout"
        }
      ]
    },
    {
      "cell_type": "code",
      "metadata": {
        "colab": {
          "base_uri": "https://localhost:8080/"
        },
        "id": "appEzc5wTxNL",
        "outputId": "dd49c3ce-ed73-4bc2-b6d9-c867fda6d21e"
      },
      "source": [
        "def add_tax(price=100, rate=0.1):\n",
        "  added = int( price * (1 + rate) )\n",
        "  return added\n",
        "\n",
        "print(add_tax(100, 0.1))"
      ],
      "execution_count": 6,
      "outputs": [
        {
          "output_type": "stream",
          "text": [
            "110\n"
          ],
          "name": "stdout"
        }
      ]
    },
    {
      "cell_type": "code",
      "metadata": {
        "id": "n3dsVPDHT1dE"
      },
      "source": [
        "def mail_temp(name, txt):\n",
        "  return name + txt # 文字の足し算は単純に2つを連結させる\n",
        "\n",
        "name_list = [\"aoki\", \"iijima\", \"ueda\", \"endo\"]\n",
        "txt = \"様，いつもご利用いただきありがとうございます．\"\n",
        "\n",
        "for name in name_list:\n",
        "  print(mail_temp(name, txt))\n"
      ],
      "execution_count": null,
      "outputs": []
    },
    {
      "cell_type": "markdown",
      "metadata": {
        "id": "_CCSA5Q1UBUo"
      },
      "source": [
        "## 関数定義を利用するメリット\n",
        "### コードの再利用\n",
        "- 同じようなコードを何度も書かなくていい．\n",
        "- 繰り返し文よりも自由度の高い繰り返し利用ができる．\n",
        "### コードの視認性\n",
        "- わかりやすいコードになる\n",
        "- 機能ごとに名前を付けることで，どの行で何をしているのかがわかりやすくなる．\n",
        "- うまく名前を決めて処理を書くと，時間が経ってから読み返しても内容がわかる．\n",
        "  - [リーダブルコード]( https://www.amazon.co.jp/dp/4873115655/ref=cm_sw_em_r_mt_dp_EMGEK13Z64YD048BVMKV)"
      ]
    }
  ]
}