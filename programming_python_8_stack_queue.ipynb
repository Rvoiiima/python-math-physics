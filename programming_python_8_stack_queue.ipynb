{
  "nbformat": 4,
  "nbformat_minor": 0,
  "metadata": {
    "colab": {
      "name": "programming-python-8-stack-queue.ipynb",
      "provenance": [],
      "authorship_tag": "ABX9TyMxGJ0VdOk4S2qzcMJEQeKu",
      "include_colab_link": true
    },
    "kernelspec": {
      "name": "python3",
      "display_name": "Python 3"
    },
    "language_info": {
      "name": "python"
    }
  },
  "cells": [
    {
      "cell_type": "markdown",
      "metadata": {
        "id": "view-in-github",
        "colab_type": "text"
      },
      "source": [
        "<a href=\"https://colab.research.google.com/github/Rvoiiima/python-math-physics/blob/main/programming_python_8_stack_queue.ipynb\" target=\"_parent\"><img src=\"https://colab.research.google.com/assets/colab-badge.svg\" alt=\"Open In Colab\"/></a>"
      ]
    },
    {
      "cell_type": "markdown",
      "metadata": {
        "id": "SD276CmJsXQf"
      },
      "source": [
        "# Python 入門 第8回 stack queue\n",
        "- [資料](https://ryo-iijima.com/blog/wp-content/uploads/2021/01/python-8-stack-queue.pdf)\n",
        "\n",
        "## データ構造入門\n",
        "- スタック(Stack)\n",
        "- キュー(Queue)\n",
        "## データ構造を応用したシミュレーション\n",
        "- 現実世界寄り\n",
        "- ソフトウェア寄り\n",
        "\n"
      ]
    },
    {
      "cell_type": "markdown",
      "metadata": {
        "id": "86IcK1Ftsue5"
      },
      "source": [
        "## データ構造とは\n",
        "\n",
        "- プログラムの中で，データをどのようにして格納したり，取り出したりするかという構造のこと\n",
        "\n",
        "### 代表的なデータ構造\n",
        "- リスト(第5回授業)\n",
        "- 辞書\n",
        "- Stack\n",
        "- Queue\n",
        "\n",
        "など"
      ]
    },
    {
      "cell_type": "markdown",
      "metadata": {
        "id": "8XQ6Jjivs0qG"
      },
      "source": [
        "## Stack (Last In First Out, LIFO)\n",
        "1箇所からのみ出し入れができる箱\n",
        "\n",
        "## Queue (First In First Out, FIFO)\n",
        "入り口，出口がそれぞれ別に1つずつ固定された箱"
      ]
    },
    {
      "cell_type": "markdown",
      "metadata": {
        "id": "UIEnOpmQtGFI"
      },
      "source": [
        "# それぞれの主な利用用途\n",
        "## Stack\n",
        "メモリやレジスタの容量を節約したい計算\n",
        "- 逆ポーランド記法による計算: Stackを用いると，メモリを節約しながら簡単に実装できる\n",
        "\n",
        "## Queue\n",
        "待ち行列の解析（待ち行列理論）\n",
        "- リアルな待ち行列\n",
        "- 交通渋滞\n",
        "- オンラインリアルタイム動画(Zoom，Skypeなど)のパケット受信"
      ]
    },
    {
      "cell_type": "markdown",
      "metadata": {
        "id": "wM3RhSZBtgQz"
      },
      "source": [
        "# Stackの例\n",
        "list で表現可能"
      ]
    },
    {
      "cell_type": "code",
      "metadata": {
        "colab": {
          "base_uri": "https://localhost:8080/"
        },
        "id": "_Dpaq6f-st1q",
        "outputId": "be79c55d-10c5-48ad-ce13-5c86fed8a46a"
      },
      "source": [
        "S = []\n",
        "\n",
        "S.append(2)\n",
        "print(S)\n",
        "\n",
        "S.append(5)\n",
        "print(S)\n",
        "\n",
        "S.append(8)\n",
        "print(S)\n",
        "\n",
        "S.pop()\n",
        "print(S)\n",
        "\n",
        "S.pop()\n",
        "print(S)\n",
        "\n",
        "S.pop()\n",
        "print(S)\n"
      ],
      "execution_count": 1,
      "outputs": [
        {
          "output_type": "stream",
          "text": [
            "[2]\n",
            "[2, 5]\n",
            "[2, 5, 8]\n",
            "[2, 5]\n",
            "[2]\n",
            "[]\n"
          ],
          "name": "stdout"
        }
      ]
    },
    {
      "cell_type": "markdown",
      "metadata": {
        "id": "BcCJVFT4tsbm"
      },
      "source": [
        "# Queue の例"
      ]
    },
    {
      "cell_type": "code",
      "metadata": {
        "id": "oxnWf-vHr-fe"
      },
      "source": [
        "import queue\n",
        "\n",
        "Q = queue.Queue()\n",
        "\n",
        "Q.put(2)\n",
        "# [2]\n",
        "Q.put(5)\n",
        "# [2, 5]\n",
        "Q.put(8)\n",
        "# [2, 5, 8]\n",
        "\n",
        "print(Q.get())\n",
        "#[5, 8]\n",
        "print(Q.get())\n",
        "#[8]\n",
        "print(Q.get())\n",
        "#[]"
      ],
      "execution_count": null,
      "outputs": []
    },
    {
      "cell_type": "markdown",
      "metadata": {
        "id": "ykvvRb_Qt7Ki"
      },
      "source": [
        "# Queue の考え方を用いた待ち行列シミュレーション\n",
        "Queueモジュールを使わなくてもできるものにしました"
      ]
    },
    {
      "cell_type": "code",
      "metadata": {
        "colab": {
          "base_uri": "https://localhost:8080/",
          "height": 312
        },
        "id": "HIXohR3st4kn",
        "outputId": "23abd172-e131-49da-ae63-ed95a311a1f6"
      },
      "source": [
        "# 待ち行列シミュレーション簡易版\n",
        "import random # 店への客はランダムに到着する\n",
        "import matplotlib.pyplot as plt\n",
        "import numpy as np\n",
        "\n",
        "num_person = 0\n",
        "time = 0\n",
        "\n",
        "# 1秒あたり，客が到着する確率\n",
        "p = 0.05\n",
        "# 最後の客が到着してからの経過時間\n",
        "time_dif = 0\n",
        "# 客の到着間隔をリストに保存しておく\n",
        "time_dif_list = []\n",
        "\n",
        "TIME_END = 360000# 検証時間\n",
        "\n",
        "for i in range(TIME_END):\n",
        "  x = random.random()\n",
        "  if (x < p): \n",
        "    num_person += 1\n",
        "    # print(\"客の到着: \", num_person, \"人目\", \"時間: \", i)\n",
        "    time_dif_list.append(time_dif) # 前の客からの到着時間から，次の到着時間までの差をlistに入れる．\n",
        "    time_dif = 0 # 到着した人が最後の客となるので，最後の客が到着してからの経過時間を0にする\n",
        "  \n",
        "  time_dif += 1 # for 文 1回のループで，1秒が経過する\n",
        "\n",
        "#print(time_dif_list)\n",
        "\n",
        "#plt.hist(time_dif_list, bins=25) # ヒストグラムの作成\n",
        "plt.title('tapioca histgram + theoretical curve')\n",
        "plt.xlabel('t [second]')\n",
        "plt.ylabel('probability')\n",
        "plt.hist(time_dif_list, bins=25, density=True)\n",
        "\n",
        "\n",
        "# import numpy as np　が必要\n",
        "x = np.arange(0, 175, 0.01)\n",
        "y = p * np.exp(-1*p*x)\n",
        "\n",
        "plt.plot(x, y)\n",
        "\n"
      ],
      "execution_count": 2,
      "outputs": [
        {
          "output_type": "execute_result",
          "data": {
            "text/plain": [
              "[<matplotlib.lines.Line2D at 0x7f3d06ec4c10>]"
            ]
          },
          "metadata": {
            "tags": []
          },
          "execution_count": 2
        },
        {
          "output_type": "display_data",
          "data": {
            "image/png": "[encoded data removed]",
            "text/plain": [
              "<Figure size 432x288 with 1 Axes>"
            ]
          },
          "metadata": {
            "tags": [],
            "needs_background": "light"
          }
        }
      ]
    },
    {
      "cell_type": "markdown",
      "metadata": {
        "id": "3RpmgpmQuSHP"
      },
      "source": [
        "# 応用　待ち行列理論　ポアソン分布の確認"
      ]
    },
    {
      "cell_type": "code",
      "metadata": {
        "colab": {
          "base_uri": "https://localhost:8080/",
          "height": 435
        },
        "id": "qD2drjikuHmx",
        "outputId": "68253cbd-b188-4e88-f92b-0cc457ed77c2"
      },
      "source": [
        "# 待ち行列シミュレーション簡易版 (Queueを使わずにできるもの)　\n",
        "import random # 店への客はランダムに到着する\n",
        "import matplotlib.pyplot as plt\n",
        "import numpy as np\n",
        "\n",
        "\n",
        "time = 0\n",
        "\n",
        "# 1秒あたり，客が到着する確率\n",
        "p1 = 0.005\n",
        "# 1秒あたり、客が抜ける確率\n",
        "p2 = 0.02\n",
        "\n",
        "# 最後の客が到着してからの経過時間\n",
        "time_dif = 0\n",
        "# 客の到着間隔をリストに保存しておく\n",
        "time_dif_list = []\n",
        "num_person_list = []\n",
        "TIME_END =600# 検証時間\n",
        "TIMES = 100000\n",
        "\n",
        "for t in range(TIMES):\n",
        "  num_person = 0\n",
        "  for i in range(TIME_END):\n",
        "    x = random.random()\n",
        "    if (x < p1): \n",
        "      num_person += 1\n",
        "    # print(\"客の到着: \", num_person, \"人目\", \"時間: \", i)\n",
        "      time_dif_list.append(time_dif) # 前の客からの到着時間から，次の到着時間までの差をlistに入れる．\n",
        "      time_dif = 0 # 到着した人が最後の客となるので，最後の客が到着してからの経過時間を0にする\n",
        "  \n",
        "    time_dif += 1 # for 文 1回のループで，1秒が経過する\n",
        "  num_person_list.append(num_person)\n",
        "\n",
        "\n",
        "print(\"シミュレーション終了後の待ち行列の長さ\", num_person)\n",
        "#print(time_dif_list)\n",
        "\n",
        "\n",
        "#plt.hist(time_dif_list, bins=12) # ヒストグラムの作成\n",
        "#plt.hist(time_dif_list, bins=, density=True)\n",
        "plt.hist(num_person_list, bins=20, density=True)\n",
        "\n",
        "\n",
        "# import numpy as np　が必要\n",
        "#x = np.arange(0, 175, 0.01)\n",
        "#y = p * np.exp(-1*p*x)\n",
        "\n",
        "#plt.plot(x, y)\n"
      ],
      "execution_count": 3,
      "outputs": [
        {
          "output_type": "stream",
          "text": [
            "シミュレーション終了後の待ち行列の長さ 2\n"
          ],
          "name": "stdout"
        },
        {
          "output_type": "execute_result",
          "data": {
            "text/plain": [
              "(array([7.44923077e-02, 2.24476923e-01, 0.00000000e+00, 3.45215385e-01,\n",
              "        3.45646154e-01, 0.00000000e+00, 2.61476923e-01, 1.57630769e-01,\n",
              "        0.00000000e+00, 7.83230769e-02, 3.27076923e-02, 0.00000000e+00,\n",
              "        1.26769231e-02, 4.00000000e-03, 0.00000000e+00, 1.35384615e-03,\n",
              "        3.38461538e-04, 0.00000000e+00, 9.23076923e-05, 3.07692308e-05]),\n",
              " array([ 0.  ,  0.65,  1.3 ,  1.95,  2.6 ,  3.25,  3.9 ,  4.55,  5.2 ,\n",
              "         5.85,  6.5 ,  7.15,  7.8 ,  8.45,  9.1 ,  9.75, 10.4 , 11.05,\n",
              "        11.7 , 12.35, 13.  ]),\n",
              " <a list of 20 Patch objects>)"
            ]
          },
          "metadata": {
            "tags": []
          },
          "execution_count": 3
        },
        {
          "output_type": "display_data",
          "data": {
            "image/png": "[encoded data removed]",
            "text/plain": [
              "<Figure size 432x288 with 1 Axes>"
            ]
          },
          "metadata": {
            "tags": [],
            "needs_background": "light"
          }
        }
      ]
    }
  ]
}