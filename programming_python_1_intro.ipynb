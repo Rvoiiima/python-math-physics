{
  "nbformat": 4,
  "nbformat_minor": 0,
  "metadata": {
    "colab": {
      "name": "programming-python-1-intro.ipynb",
      "provenance": [],
      "collapsed_sections": [],
      "include_colab_link": true
    },
    "kernelspec": {
      "name": "python3",
      "display_name": "Python 3"
    }
  },
  "cells": [
    {
      "cell_type": "markdown",
      "metadata": {
        "id": "view-in-github",
        "colab_type": "text"
      },
      "source": [
        "<a href=\"https://colab.research.google.com/github/Rvoiiima/python-math-physics/blob/main/programming_python_1_intro.ipynb\" target=\"_parent\"><img src=\"https://colab.research.google.com/assets/colab-badge.svg\" alt=\"Open In Colab\"/></a>"
      ]
    },
    {
      "cell_type": "markdown",
      "metadata": {
        "id": "oIyDqueHD6rq"
      },
      "source": [
        "# Python入門 第1回 Introduction\n",
        "- [資料](https://ryo-iijima.com/blog/wp-content/uploads/2021/01/python-1-introduction.pdf)\n",
        "\n",
        "- 早大本庄　選択科目　プログラミング \n",
        "- 担当: 飯島　涼"
      ]
    },
    {
      "cell_type": "code",
      "metadata": {
        "id": "iigLYs8hdsqX",
        "colab": {
          "base_uri": "https://localhost:8080/",
          "height": 35
        },
        "outputId": "e0b82608-5d4b-489d-b954-41aac46b0941"
      },
      "source": [
        "print(\"Hello, world!\")"
      ],
      "execution_count": null,
      "outputs": [
        {
          "output_type": "stream",
          "text": [
            "Hello, world!\n"
          ],
          "name": "stdout"
        }
      ]
    },
    {
      "cell_type": "code",
      "metadata": {
        "id": "gdMYda8LiENk",
        "colab": {
          "base_uri": "https://localhost:8080/",
          "height": 71
        },
        "outputId": "299b7424-db04-4a08-ef5d-8e6e66c7e935"
      },
      "source": [
        "a = 5\n",
        "print(a)\n",
        "\n",
        "abc = 123\n",
        "print(abc)\n",
        "\n",
        "a123 = 56\n",
        "print(a123)\n",
        "\n",
        "# エラーになる変数名 (先頭に数字がある)\n",
        "#12a = 32 "
      ],
      "execution_count": null,
      "outputs": [
        {
          "output_type": "stream",
          "text": [
            "5\n",
            "123\n",
            "56\n"
          ],
          "name": "stdout"
        }
      ]
    },
    {
      "cell_type": "markdown",
      "metadata": {
        "id": "RhGkmlqRiMu8"
      },
      "source": [
        "**変数の名前として使えるものリスト**\n",
        "\n",
        "1.   x (1文字　数学と同じく変数として使える)\n",
        "2.   xabc (空白の入らない2文字以上でもOK)\n",
        "3.   a123 (数字がつながっいても1つの変数と考える)\n",
        "\n",
        "**変数名として使えないもの**\n",
        "\n",
        "=> 先頭が数字で始まっているもの\n",
        "1.   1a\n",
        "2.   12a\n",
        "3.   123hello\n",
        "\n",
        "**変数の中身をprint**\n",
        "\n",
        "変数の中身を表示させるときは\"\"(ダブルクォーテーション) で囲う必要はありません。\n",
        "\"\"(ダブルクォーテーション)で囲むのは直接文字を書いて表示させたいときです。(後述)\n",
        "\n"
      ]
    },
    {
      "cell_type": "code",
      "metadata": {
        "id": "Dhhrs54tkRoU",
        "colab": {
          "base_uri": "https://localhost:8080/",
          "height": 53
        },
        "outputId": "5d47e478-a37f-4fd0-ed80-4aead67fe907"
      },
      "source": [
        "s = input(\"Input your name:\")\n",
        "\n",
        "print(\"Hello,\", s)"
      ],
      "execution_count": null,
      "outputs": [
        {
          "output_type": "stream",
          "text": [
            "Input your name:asdf\n",
            "Hello, asdf\n"
          ],
          "name": "stdout"
        }
      ]
    },
    {
      "cell_type": "code",
      "metadata": {
        "id": "lZCpmiUNI2of",
        "colab": {
          "base_uri": "https://localhost:8080/",
          "height": 137
        },
        "outputId": "3a08dfe7-4fd0-4cf8-a0ea-9d60be7a64df"
      },
      "source": [
        "x\n",
        "y = 2x"
      ],
      "execution_count": null,
      "outputs": [
        {
          "output_type": "error",
          "ename": "SyntaxError",
          "evalue": "ignored",
          "traceback": [
            "\u001b[0;36m  File \u001b[0;32m\"<ipython-input-2-603de413fd57>\"\u001b[0;36m, line \u001b[0;32m2\u001b[0m\n\u001b[0;31m    y = 2x\u001b[0m\n\u001b[0m         ^\u001b[0m\n\u001b[0;31mSyntaxError\u001b[0m\u001b[0;31m:\u001b[0m invalid syntax\n"
          ]
        }
      ]
    },
    {
      "cell_type": "code",
      "metadata": {
        "id": "CRap928bJc-W",
        "colab": {
          "base_uri": "https://localhost:8080/",
          "height": 191
        },
        "outputId": "54f7d2f3-8ce5-4314-858c-22ca0a60c50b"
      },
      "source": [
        "x\n",
        "y = 2*x"
      ],
      "execution_count": null,
      "outputs": [
        {
          "output_type": "error",
          "ename": "NameError",
          "evalue": "ignored",
          "traceback": [
            "\u001b[0;31m---------------------------------------------------------------------------\u001b[0m",
            "\u001b[0;31mNameError\u001b[0m                                 Traceback (most recent call last)",
            "\u001b[0;32m<ipython-input-3-d3dd8f1e3df1>\u001b[0m in \u001b[0;36m<module>\u001b[0;34m()\u001b[0m\n\u001b[0;32m----> 1\u001b[0;31m \u001b[0mx\u001b[0m\u001b[0;34m\u001b[0m\u001b[0;34m\u001b[0m\u001b[0m\n\u001b[0m\u001b[1;32m      2\u001b[0m \u001b[0my\u001b[0m \u001b[0;34m=\u001b[0m \u001b[0;36m2\u001b[0m\u001b[0;34m*\u001b[0m\u001b[0mx\u001b[0m\u001b[0;34m\u001b[0m\u001b[0;34m\u001b[0m\u001b[0m\n",
            "\u001b[0;31mNameError\u001b[0m: name 'x' is not defined"
          ]
        }
      ]
    }
  ]
}