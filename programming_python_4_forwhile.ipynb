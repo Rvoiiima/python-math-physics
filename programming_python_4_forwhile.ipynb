{
  "nbformat": 4,
  "nbformat_minor": 0,
  "metadata": {
    "colab": {
      "name": "programming-python-4-forwhile.ipynb",
      "provenance": [],
      "authorship_tag": "ABX9TyPLgqQxYX21CkeK4UJzlkYf",
      "include_colab_link": true
    },
    "kernelspec": {
      "name": "python3",
      "display_name": "Python 3"
    },
    "language_info": {
      "name": "python"
    }
  },
  "cells": [
    {
      "cell_type": "markdown",
      "metadata": {
        "id": "view-in-github",
        "colab_type": "text"
      },
      "source": [
        "<a href=\"https://colab.research.google.com/github/Rvoiiima/python-math-physics/blob/main/programming_python_4_forwhile.ipynb\" target=\"_parent\"><img src=\"https://colab.research.google.com/assets/colab-badge.svg\" alt=\"Open In Colab\"/></a>"
      ]
    },
    {
      "cell_type": "markdown",
      "metadata": {
        "id": "Do5nH62QJp5d"
      },
      "source": [
        "# Python 入門　第4回 繰り返し文\n",
        "- [資料](https://ryo-iijima.com/blog/wp-content/uploads/2021/01/python-4-forwhile.pdf)\n",
        "\n",
        "## 繰り返し文\n",
        "同じ処理を何度も繰り返す場合に書く命令\n",
        "- 指定した条件を満たす間繰り返す(while)\n",
        "\n",
        "```\n",
        "while (条件):\n",
        "    命令1\n",
        "    命令2\n",
        "    ... ... \n",
        "```\n",
        "\n",
        "- リストから要素を取り出しながら繰り返す(for)\n",
        "\n",
        "```\n",
        "for 変数 in リスト:\n",
        "    命令1\n",
        "    命令2\n",
        "    ... ... \n",
        "```"
      ]
    },
    {
      "cell_type": "markdown",
      "metadata": {
        "id": "9HxA-_s4MwUX"
      },
      "source": [
        "### For 文の例"
      ]
    },
    {
      "cell_type": "code",
      "metadata": {
        "colab": {
          "base_uri": "https://localhost:8080/"
        },
        "id": "qJ5KZq1WJh09",
        "outputId": "71f15bcc-b79d-4b00-a1b4-eb6dd87dc72c"
      },
      "source": [
        "for x in range(5):\n",
        "  x *= 2\n",
        "  print(x)"
      ],
      "execution_count": null,
      "outputs": [
        {
          "output_type": "stream",
          "text": [
            "0\n",
            "2\n",
            "4\n",
            "6\n",
            "8\n"
          ],
          "name": "stdout"
        }
      ]
    },
    {
      "cell_type": "markdown",
      "metadata": {
        "id": "BHAZjsJ_M26N"
      },
      "source": [
        "### While文の例"
      ]
    },
    {
      "cell_type": "code",
      "metadata": {
        "colab": {
          "base_uri": "https://localhost:8080/"
        },
        "id": "u4Nz5RlMM0E9",
        "outputId": "455d1ef8-abd4-41a1-adbf-41a6dbc68f50"
      },
      "source": [
        "x = 1\n",
        "while x < 10:\n",
        "  print(x)\n",
        "  x += 1"
      ],
      "execution_count": null,
      "outputs": [
        {
          "output_type": "stream",
          "text": [
            "1\n",
            "2\n",
            "3\n",
            "4\n",
            "5\n",
            "6\n",
            "7\n",
            "8\n",
            "9\n"
          ],
          "name": "stdout"
        }
      ]
    },
    {
      "cell_type": "code",
      "metadata": {
        "colab": {
          "base_uri": "https://localhost:8080/"
        },
        "id": "ogUJLLH0M-9t",
        "outputId": "ecaee9a0-454d-491c-d69d-82a784d26598"
      },
      "source": [
        "x = 2\n",
        "\n",
        "while x < 20:\n",
        "  print(x)\n",
        "  x += 2"
      ],
      "execution_count": null,
      "outputs": [
        {
          "output_type": "stream",
          "text": [
            "2\n",
            "4\n",
            "6\n",
            "8\n",
            "10\n",
            "12\n",
            "14\n",
            "16\n",
            "18\n"
          ],
          "name": "stdout"
        }
      ]
    },
    {
      "cell_type": "markdown",
      "metadata": {
        "id": "__DDNM2NLr7j"
      },
      "source": [
        "## if文とwhile 文の組み合わせ\n",
        "- 繰り返したい処理はインデントする\n",
        "  - 繰り返しの処理の中で、if文を使いたい場合は、更に1段階インデントする\n",
        "\n",
        "## break文 と continue文\n",
        "- 繰り返しの中のを中断する処理\n",
        "\n",
        "### break文\n",
        "- この文にたどり着いたら、処理を中断して、その繰り返しから抜ける\n",
        "\n",
        "####  break文の例"
      ]
    },
    {
      "cell_type": "code",
      "metadata": {
        "id": "SBv69zgILq_a",
        "colab": {
          "base_uri": "https://localhost:8080/"
        },
        "outputId": "a3958d6e-0395-4c7b-da17-d68ea6099210"
      },
      "source": [
        "import random\n",
        "\n",
        "t = 0\n",
        "while (t < 10):\n",
        "  x = random.random()\n",
        "  if (x < 0.7):\n",
        "    print(\"チャレンジ失敗\")\n",
        "  else:\n",
        "    print(\"チャレンジ成功\")\n",
        "    break\n",
        "  \n",
        "  t += 1\n",
        "\n",
        "print(\"Finish.\")"
      ],
      "execution_count": null,
      "outputs": [
        {
          "output_type": "stream",
          "text": [
            "チャレンジ失敗\n",
            "チャレンジ成功\n",
            "Finish.\n"
          ],
          "name": "stdout"
        }
      ]
    },
    {
      "cell_type": "markdown",
      "metadata": {
        "id": "d60MIGu-MkrK"
      },
      "source": [
        "### continue文\n",
        "- この文にたどり着いたら、処理を中断して、次の繰り返し処理に移る\n",
        "\n",
        "#### continue 文の例"
      ]
    },
    {
      "cell_type": "code",
      "metadata": {
        "id": "26FgIBc9MiL9",
        "colab": {
          "base_uri": "https://localhost:8080/"
        },
        "outputId": "ca91c76f-4d8e-410d-b62b-61d87617d667"
      },
      "source": [
        "import random\n",
        "\n",
        "t = 0\n",
        "while (t < 10):\n",
        "  x = random.random()\n",
        "  if (x < 0.7):\n",
        "    print(\"チャレンジ失敗\")\n",
        "  else:\n",
        "    print(\"チャレンジ成功\")\n",
        "    continue\n",
        "  \n",
        "  t += 1\n",
        "\n",
        "print(\"Finish.\")"
      ],
      "execution_count": null,
      "outputs": [
        {
          "output_type": "stream",
          "text": [
            "チャレンジ失敗\n",
            "チャレンジ失敗\n",
            "チャレンジ失敗\n",
            "チャレンジ成功\n",
            "チャレンジ成功\n",
            "チャレンジ失敗\n",
            "チャレンジ成功\n",
            "チャレンジ失敗\n",
            "チャレンジ成功\n",
            "チャレンジ失敗\n",
            "チャレンジ失敗\n",
            "チャレンジ失敗\n",
            "チャレンジ失敗\n",
            "チャレンジ失敗\n",
            "Finish.\n"
          ],
          "name": "stdout"
        }
      ]
    },
    {
      "cell_type": "markdown",
      "metadata": {
        "id": "rh1ZxDi6M5-J"
      },
      "source": [
        "## for 文のネスト"
      ]
    },
    {
      "cell_type": "code",
      "metadata": {
        "colab": {
          "base_uri": "https://localhost:8080/"
        },
        "id": "Y5duTaLeM6Gd",
        "outputId": "75aab5fd-c374-443d-d7e8-b0215aabb93a"
      },
      "source": [
        "for i in range(3):\n",
        "  print(\"i =\", i)\n",
        "  for j in range(2):\n",
        "    print(\"  j =\", j)"
      ],
      "execution_count": null,
      "outputs": [
        {
          "output_type": "stream",
          "text": [
            "i = 0\n",
            "  j = 0\n",
            "  j = 1\n",
            "i = 1\n",
            "  j = 0\n",
            "  j = 1\n",
            "i = 2\n",
            "  j = 0\n",
            "  j = 1\n"
          ],
          "name": "stdout"
        }
      ]
    },
    {
      "cell_type": "code",
      "metadata": {
        "id": "Y4sXjajKM9HH",
        "colab": {
          "base_uri": "https://localhost:8080/"
        },
        "outputId": "b4151c9a-3b8f-4d0f-eec1-b4b87763a4e8"
      },
      "source": [
        "import random\n",
        "t = 0\n",
        "HP = 1\n",
        "while (t < 5):\n",
        "  t += 1\n",
        "  print(\"現在のHP:\", HP)\n",
        "  x = random.random()\n",
        "  if (x < 0.3):\n",
        "    print(\"チャレンジ失敗\")\n",
        "    continue\n",
        "\n",
        "  print(\"チャレンジ成功，HPを3回復します．\")\n",
        "  HP += 3\n",
        "\n"
      ],
      "execution_count": null,
      "outputs": [
        {
          "output_type": "stream",
          "text": [
            "現在のHP: 1\n",
            "チャレンジ成功，HPを3回復します．\n",
            "現在のHP: 4\n",
            "チャレンジ成功，HPを3回復します．\n",
            "現在のHP: 7\n",
            "チャレンジ失敗\n",
            "現在のHP: 7\n",
            "チャレンジ失敗\n",
            "現在のHP: 7\n",
            "チャレンジ失敗\n"
          ],
          "name": "stdout"
        }
      ]
    },
    {
      "cell_type": "markdown",
      "metadata": {
        "id": "zj18nMP9Nfkz"
      },
      "source": [
        "### True / False の表現方法\n",
        "#### 1 or True\n",
        "- 条件が常に真\n",
        "\n",
        "#### 0 or False\n",
        "- 条件が常に偽"
      ]
    },
    {
      "cell_type": "code",
      "metadata": {
        "id": "bTLKD3JSNeLZ"
      },
      "source": [
        "while False:\n",
        "  print(\"Hello\")\n",
        "\n",
        "while 0:\n",
        "  print(\"Hello\")"
      ],
      "execution_count": null,
      "outputs": []
    }
  ]
}