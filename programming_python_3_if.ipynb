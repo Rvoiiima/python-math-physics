{
  "nbformat": 4,
  "nbformat_minor": 0,
  "metadata": {
    "colab": {
      "name": "programming-python-3-if.ipynb",
      "provenance": [],
      "include_colab_link": true
    },
    "kernelspec": {
      "name": "python3",
      "display_name": "Python 3"
    }
  },
  "cells": [
    {
      "cell_type": "markdown",
      "metadata": {
        "id": "view-in-github",
        "colab_type": "text"
      },
      "source": [
        "<a href=\"https://colab.research.google.com/github/Rvoiiima/python-math-physics/blob/main/programming_python_3_if.ipynb\" target=\"_parent\"><img src=\"https://colab.research.google.com/assets/colab-badge.svg\" alt=\"Open In Colab\"/></a>"
      ]
    },
    {
      "cell_type": "markdown",
      "metadata": {
        "id": "ZXscC1z4GKsA"
      },
      "source": [
        "# Python 入門　第3回 条件分岐 (if-else)\n",
        "- [資料](https://ryo-iijima.com/blog/wp-content/uploads/2021/01/python-3-if.pdf)\n",
        "\n",
        "\n",
        "### 復習"
      ]
    },
    {
      "cell_type": "code",
      "metadata": {
        "id": "fr0gSAGglgNf",
        "colab": {
          "base_uri": "https://localhost:8080/",
          "height": 301
        },
        "outputId": "7e5c4980-7e8f-4cd0-9a29-7682aa4251a2"
      },
      "source": [
        "import numpy as np\n",
        "import matplotlib.pyplot as plt\n",
        "\n",
        "# ベクトルのブロードキャスト計算\n",
        "\n",
        "\n",
        "x = np.array([1, 4, 9, 16])\n",
        "\n",
        "y = 2 * x # 数字*ベクトル　の形\n",
        "\n",
        "print(x)\n",
        "print(y)\n",
        "plt.plot(x, y)\n",
        "plt.show()"
      ],
      "execution_count": null,
      "outputs": [
        {
          "output_type": "stream",
          "text": [
            "[ 1  4  9 16]\n",
            "[ 2  8 18 32]\n"
          ],
          "name": "stdout"
        },
        {
          "output_type": "display_data",
          "data": {
            "image/png": "[encoded data removed]",
            "text/plain": [
              "<Figure size 432x288 with 1 Axes>"
            ]
          },
          "metadata": {
            "tags": []
          }
        }
      ]
    },
    {
      "cell_type": "markdown",
      "metadata": {
        "id": "pOOGIblDGViX"
      },
      "source": [
        "## 条件分岐\n",
        "```\n",
        "if (条件):\n",
        "  条件を満たしたときに実行される内容\n",
        "else:\n",
        "  条件を満たさなかったときに実行される内容\n",
        "```"
      ]
    },
    {
      "cell_type": "code",
      "metadata": {
        "colab": {
          "base_uri": "https://localhost:8080/"
        },
        "id": "fVfYPTGWG9UA",
        "outputId": "3b99dafb-6062-48e3-e015-004480a9cc93"
      },
      "source": [
        "s = input()\n",
        "\n",
        "if s == \"ryo\":\n",
        "  print(\"Hello,\", s, \"san!\")\n",
        "else:\n",
        "  print(\"...\")\n",
        "\n"
      ],
      "execution_count": null,
      "outputs": [
        {
          "output_type": "stream",
          "text": [
            "ryo\n",
            "Hello, ryo san!\n"
          ],
          "name": "stdout"
        }
      ]
    },
    {
      "cell_type": "code",
      "metadata": {
        "colab": {
          "base_uri": "https://localhost:8080/"
        },
        "id": "X9d_6OLPJcMG",
        "outputId": "63ad4a29-5293-47ba-f32d-c5717c1c4edb"
      },
      "source": [
        "x = 5\n",
        "if (x > 10):\n",
        "  print(\"xは10より大きいです\")\n",
        "else:\n",
        "  print(\"xは10以下です\")\n"
      ],
      "execution_count": null,
      "outputs": [
        {
          "output_type": "stream",
          "text": [
            "xは10以下です\n"
          ],
          "name": "stdout"
        }
      ]
    },
    {
      "cell_type": "markdown",
      "metadata": {
        "id": "4UE6DQCMHhwr"
      },
      "source": [
        "## 追加の条件分岐　elifの使い方"
      ]
    },
    {
      "cell_type": "code",
      "metadata": {
        "id": "BDLrlyR9GpzO"
      },
      "source": [
        "s = input(\"和訳したい英語を入れて下さい: \")\n",
        "\n",
        "print(s + \"は日本語で\")\n",
        "if (s == \"rice\"):\n",
        "  print(\"ごはん\")\n",
        "elif (s == \"bread\"):\n",
        "  print(\"パン\")\n",
        "elif (s == \"noodle\"):\n",
        "  print(\"うどん\")\n",
        "else:\n",
        "  print(\"まだその単語を知りません．\")"
      ],
      "execution_count": null,
      "outputs": []
    },
    {
      "cell_type": "markdown",
      "metadata": {
        "id": "b9v0D91cHdUk"
      },
      "source": [
        "## ネストされたif文"
      ]
    },
    {
      "cell_type": "code",
      "metadata": {
        "id": "GFPsj2rWGy2R"
      },
      "source": [
        "x = 6\n",
        "y = 20\n",
        "\n",
        "if (x == 10):\n",
        "  print(\"x is equal to 10\")\n",
        "  if (y == 20):\n",
        "    print(\"and y is equal to 20\")"
      ],
      "execution_count": null,
      "outputs": []
    },
    {
      "cell_type": "markdown",
      "metadata": {
        "id": "9oQmVA72Hu60"
      },
      "source": [
        "## じゃんけんゲームの例"
      ]
    },
    {
      "cell_type": "code",
      "metadata": {
        "colab": {
          "base_uri": "https://localhost:8080/"
        },
        "id": "YuWek61qHuGN",
        "outputId": "4e5333c5-71e6-406b-8503-432d7a99b473"
      },
      "source": [
        "import sys\n",
        "print(\"はじめまして、私はじゃんけんに負けないゲームシステムです、私とじゃんけんしませんか？\")\n",
        "print(\"じゃんけん (グー、チョキ、パーのどれかを入力してください)\")\n",
        "\n",
        "s = input()\n",
        "print(\"ぽん！私の出した手は\", end='')\n",
        "if (s == \"パー\"):\n",
        "  print(\"チョキでした!\")\n",
        "elif (s == \"チョキー\"):\n",
        "  print(\"グーでした!\")\n",
        "elif (s == \"グー\"):\n",
        "  print(\"パーでした!\")\n",
        "else:\n",
        "  print()\n",
        "  print(\"正しく入力し直してください\")\n",
        "\n",
        "\n",
        "\n"
      ],
      "execution_count": null,
      "outputs": [
        {
          "output_type": "stream",
          "text": [
            "はじめまして、私はじゃんけんに負けないゲームシステムです、私とじゃんけんしませんか？\n",
            "じゃんけん (グー、チョキ、パーのどれかを入力してください)\n",
            "l\n",
            "ぽん！私の出した手は\n",
            "正しく入力し直してください\n"
          ],
          "name": "stdout"
        }
      ]
    }
  ]
}