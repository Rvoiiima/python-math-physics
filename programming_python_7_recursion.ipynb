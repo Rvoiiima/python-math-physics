{
  "nbformat": 4,
  "nbformat_minor": 0,
  "metadata": {
    "colab": {
      "name": "programming-python-7-recursion.ipynb",
      "provenance": [],
      "authorship_tag": "ABX9TyP19Dz8l2zBEQJuqJhC0jj7",
      "include_colab_link": true
    },
    "kernelspec": {
      "name": "python3",
      "display_name": "Python 3"
    },
    "language_info": {
      "name": "python"
    }
  },
  "cells": [
    {
      "cell_type": "markdown",
      "metadata": {
        "id": "view-in-github",
        "colab_type": "text"
      },
      "source": [
        "<a href=\"https://colab.research.google.com/github/Rvoiiima/python-math-physics/blob/main/programming_python_7_recursion.ipynb\" target=\"_parent\"><img src=\"https://colab.research.google.com/assets/colab-badge.svg\" alt=\"Open In Colab\"/></a>"
      ]
    },
    {
      "cell_type": "markdown",
      "metadata": {
        "id": "nn793ROiU7GU"
      },
      "source": [
        "# Python 入門 第7回 再帰 recursion\n",
        "- [資料](https://ryo-iijima.com/blog/wp-content/uploads/2021/01/python-7-recursion.pdf)\n",
        "\n",
        "## 再帰関数\n",
        "- 関数の中で、自分自身を呼び出す関数\n",
        "- 関数を呼び出した部分は、関数の戻り値に置き換わると考える\n",
        "\n",
        "### 再帰関数の例"
      ]
    },
    {
      "cell_type": "code",
      "metadata": {
        "id": "Wh44OqU-UsOB"
      },
      "source": [
        "def factorial(n):\n",
        "  if (n == 1):\n",
        "    return 1\n",
        "  return n * factorial(n-1)\n",
        "\n",
        "print(factorial(5))\n"
      ],
      "execution_count": null,
      "outputs": []
    },
    {
      "cell_type": "markdown",
      "metadata": {
        "id": "N_y5w3DQVcKn"
      },
      "source": [
        "####  以下は再帰関数の実行イメージです　実行不可と書かれているものは実行はしないでください"
      ]
    },
    {
      "cell_type": "code",
      "metadata": {
        "id": "CdL9KzcYVmOu"
      },
      "source": [
        "# 実行不可\n",
        "def factorial(n):\n",
        "\n",
        "  return n * factorial(n-1)\n",
        "\n",
        "print(factorial(5))"
      ],
      "execution_count": null,
      "outputs": []
    },
    {
      "cell_type": "markdown",
      "metadata": {
        "id": "m-q0I_pyVqiq"
      },
      "source": [
        "↓\n"
      ]
    },
    {
      "cell_type": "code",
      "metadata": {
        "id": "9p1Ui3pPV0f9"
      },
      "source": [
        "# 実行不可\n",
        "\n",
        "def factorial(n):\n",
        "\n",
        "  return n * factorial(n-1)\n",
        "\n",
        "print(5 * factorial(4))"
      ],
      "execution_count": null,
      "outputs": []
    },
    {
      "cell_type": "markdown",
      "metadata": {
        "id": "LYJAG3SfVyTm"
      },
      "source": [
        "↓\n"
      ]
    },
    {
      "cell_type": "code",
      "metadata": {
        "id": "PZDOkdrVV4Zn"
      },
      "source": [
        "# 実行不可\n",
        "def factorial(n):\n",
        "\n",
        "  return n * factorial(n-1)\n",
        "\n",
        "print(5 * 4 * factorial(3))"
      ],
      "execution_count": null,
      "outputs": []
    },
    {
      "cell_type": "markdown",
      "metadata": {
        "id": "gPI4N27GVyhs"
      },
      "source": [
        "↓\n",
        "... ... "
      ]
    },
    {
      "cell_type": "code",
      "metadata": {
        "id": "QuG1JKKDWCPC"
      },
      "source": [
        "# 実行不可\n",
        "def factorial(n):\n",
        "\n",
        "    return n * factorial(n-1)\n",
        "\n",
        "print(5 * 4 * 3 * 2 * factorial(1))\n",
        "\n",
        "# このままではいつまでも終わらなくなってしまう　-> 停止条件"
      ],
      "execution_count": null,
      "outputs": []
    },
    {
      "cell_type": "markdown",
      "metadata": {
        "id": "jddtc5kqWQUx"
      },
      "source": [
        "### 終了条件付きの再帰関数"
      ]
    },
    {
      "cell_type": "code",
      "metadata": {
        "id": "Kkj7i3PiWOni"
      },
      "source": [
        "def factorial(n):\n",
        "  if (n==1):\n",
        "    return 1\n",
        "  return n * factorial(n-1)"
      ],
      "execution_count": null,
      "outputs": []
    },
    {
      "cell_type": "markdown",
      "metadata": {
        "id": "k7ODOxXRWTo9"
      },
      "source": [
        "## まとめ: 再帰関数に必要なもの\n",
        "- 終了条件: 再帰呼び出しを終了させるために必要な条件 (if文を利用して設定されることがほとんど)\n",
        "\n",
        "### 再帰関数を正しく動作させるための、終了条件の定め方\n",
        "1. どんな引数を入力しても、必ず終了条件にたどり着けるようにする\n",
        "2. 終了条件の戻り値には、再帰呼び出しを書かない\n",
        "3. 想定しない入力があった場合には、エラーの処理を行う（if文でOK）\n",
        "\n",
        "\n",
        "## 応用: フィボナッチ数列\n",
        "- [Def] 数列のn番目の数が、n-1番目の数と、n-2番目の数の和となるような数列を、フィボナッチ数列という\n",
        "- n番目のフィボナッチ数列を出力する関数をfibonacci(n)とする。"
      ]
    },
    {
      "cell_type": "code",
      "metadata": {
        "colab": {
          "base_uri": "https://localhost:8080/"
        },
        "id": "05ndn0GoW87C",
        "outputId": "e55cadd5-334f-4014-a039-38f3bed4013b"
      },
      "source": [
        "def fibonacci(n):\n",
        "  if (n==1 or n==2):\n",
        "    return 1\n",
        "  \n",
        "  return fibonacci(n-1) + fibonacci(n-2)\n",
        "\n",
        "fibonacci(6)\n"
      ],
      "execution_count": null,
      "outputs": [
        {
          "output_type": "execute_result",
          "data": {
            "text/plain": [
              "8"
            ]
          },
          "metadata": {
            "tags": []
          },
          "execution_count": 1
        }
      ]
    }
  ]
}